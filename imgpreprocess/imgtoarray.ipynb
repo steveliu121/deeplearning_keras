{
 "cells": [
  {
   "cell_type": "markdown",
   "metadata": {},
   "source": [
    "# 将图片转换为numpy矩阵\n",
    "可以设定channel这一dimension在numpy矩阵中是哪一个维度，譬如\n",
    "+ tensorflow的numpy.shape为(row, colum, channel)，也即\"channels_last\"（kera默认配置是channels_last，因为keras默认采用tensorflow作为backend）\n",
    "+ theano的numpy.shape为(channel, row, colum)，也即\"channels_first\""
   ]
  },
  {
   "cell_type": "code",
   "execution_count": 1,
   "metadata": {},
   "outputs": [],
   "source": [
    "from keras.preprocessing.image import img_to_array\n",
    "\n",
    "class ImgToArray:\n",
    "    '''\n",
    "    dataFormat=\"channels_first\"(theano) / \"channels_last\"(tensorflow)\n",
    "    '''\n",
    "    def __init__(self, dataFormat=None):\n",
    "        self.dataFormat=dataFormat\n",
    "\n",
    "    def preprocess(self, image):\n",
    "        return img_to_array(image, data_format=self.dataFormat)"
   ]
  }
 ],
 "metadata": {
  "kernelspec": {
   "display_name": "Python [conda env:pDL] *",
   "language": "python",
   "name": "conda-env-pDL-py"
  },
  "language_info": {
   "codemirror_mode": {
    "name": "ipython",
    "version": 3
   },
   "file_extension": ".py",
   "mimetype": "text/x-python",
   "name": "python",
   "nbconvert_exporter": "python",
   "pygments_lexer": "ipython3",
   "version": "3.8.5"
  }
 },
 "nbformat": 4,
 "nbformat_minor": 4
}
