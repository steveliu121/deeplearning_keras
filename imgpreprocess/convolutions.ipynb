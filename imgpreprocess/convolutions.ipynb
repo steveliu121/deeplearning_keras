{
 "cells": [
  {
   "cell_type": "markdown",
   "metadata": {},
   "source": [
    "# 图像卷积的手写实现"
   ]
  },
  {
   "cell_type": "code",
   "execution_count": 1,
   "metadata": {},
   "outputs": [],
   "source": [
    "from skimage.exposure import rescale_intensity\n",
    "import numpy as np\n",
    "import argparse\n",
    "import cv2"
   ]
  },
  {
   "cell_type": "markdown",
   "metadata": {},
   "source": [
    "## 卷积运算\n",
    "+ 图像的某一通道采用\"行 x 列\"的矩阵存储，对应图像的\"高 x 宽\"\n",
    "+ 卷积核kernel为一个方阵，dimension是奇数，这样才会有卷积中心\n",
    "+ 对原始图像进行padding保证卷积后feature map尺寸不变，注意不同的padding方式，这里使用replicate padding"
   ]
  },
  {
   "cell_type": "code",
   "execution_count": 2,
   "metadata": {},
   "outputs": [],
   "source": [
    "def convolve(image, kernel):\n",
    "    (iH, iW) = image.shape[:2]\n",
    "    (kH, kW) = kernel.shape[:2]\n",
    "\n",
    "    pad = (kW - 1) // 2\n",
    "    print(\"kW:\", kW)\n",
    "    print(\"pad:\", pad)\n",
    "    image = cv2.copyMakeBorder(image, pad, pad, pad, pad, cv2.BORDER_REPLICATE)\n",
    "    '''为了方便后面的量化，采用float型，量化完成后再转换成整形'''\n",
    "    output = np.zeros((iH, iW), dtype=\"float\")\n",
    "    \n",
    "    for y in np.arange(pad, iH + pad):\n",
    "        for x in np.arange(pad, iW + pad):\n",
    "            '''卷积核的卷积ROI区域'''\n",
    "            roi = image[(y - pad):(y + pad +1), (x - pad):(x + pad + 1)]\n",
    "            k = (roi * kernel).sum()\n",
    "            output[(y - pad), (x - pad)] = k\n",
    "\n",
    "    '''量化\n",
    "    pixel的intensity是[0, 255]，经过卷积运算后可能超出这一范围，\n",
    "    我们需要卷积后的结果约束在这一范围内，对超出范围的数据进行截断，譬如[18, 208, 298]-->[18, 208, 255]\n",
    "    这里\"out_range\"是image的dtype，也即\"float\"类型，范围为[0, 1.0]\n",
    "    然后将截断后的output数据按照[0, 255]-->[0, 1.0]的映射关系进行映射量化\n",
    "    再量化回[0, 255]范围（[0, 1.0]-->[0, 255]），且转换为整形\n",
    "    '''\n",
    "    output = rescale_intensity(output, in_range=(0, 255))\n",
    "    outpt = (output * 255).astype(\"uint8\")\n",
    "    \n",
    "    return output"
   ]
  },
  {
   "cell_type": "code",
   "execution_count": 3,
   "metadata": {},
   "outputs": [
    {
     "data": {
      "text/plain": [
       "'\\nap = argparse.ArgumentParser()\\nap.add_argument(\"-i\", \"--image\", required=True,\\n               help=\"path to the input image\")\\nargs = vars(ap.parse_args())\\n'"
      ]
     },
     "execution_count": 3,
     "metadata": {},
     "output_type": "execute_result"
    }
   ],
   "source": [
    "'''\n",
    "ap = argparse.ArgumentParser()\n",
    "ap.add_argument(\"-i\", \"--image\", required=True,\n",
    "               help=\"path to the input image\")\n",
    "args = vars(ap.parse_args())\n",
    "'''"
   ]
  },
  {
   "cell_type": "markdown",
   "metadata": {},
   "source": [
    "## 各种样式的卷积核"
   ]
  },
  {
   "cell_type": "code",
   "execution_count": 4,
   "metadata": {},
   "outputs": [],
   "source": [
    "smallBlur = np.ones((7, 7), dtype=\"float\") * (1.0 / (7 * 7))\n",
    "largeBlur = np.ones((21, 21), dtype=\"float\") * (1.0 / (21 * 21))\n",
    "\n",
    "sharpen = np.array((\n",
    "    [0, -1, 0],\n",
    "    [-1, 5, -1],\n",
    "    [0, -1, 0]), dtype=\"int\")\n",
    "\n",
    "laplacian = np.array((\n",
    "    [0, 1, 0],\n",
    "    [1, -4, 1],\n",
    "    [0, 1, 0]), dtype=\"int\")\n",
    "\n",
    "sobelX = np.array((\n",
    "    [-1, 0, 1],\n",
    "    [-2, 0, 2],\n",
    "    [-1, 0, 1]), dtype=\"int\")\n",
    "sobelY = np.array((\n",
    "    [-1, -2, -1],\n",
    "    [0, 0, 0],\n",
    "    [1, 2, 1]), dtype=\"int\")\n",
    "\n",
    "emboss = np.array((\n",
    "    [-2, -1, 0],\n",
    "    [-1, 1, 1],\n",
    "    [0, 1, 2]), dtype=\"int\")\n",
    "\n",
    "kernelBank = (\n",
    "    (\"small_blur\", smallBlur),\n",
    "    (\"large_blur\", largeBlur),\n",
    "    (\"sharpen\", sharpen),\n",
    "    (\"laplacian\", laplacian),\n",
    "    (\"sobel_x\", sobelX),\n",
    "    (\"sobel_y\", sobelY),\n",
    "    (\"emboss\", emboss))"
   ]
  },
  {
   "cell_type": "markdown",
   "metadata": {},
   "source": [
    "### 注意：\n",
    "OpenCV中默认的彩图通道排列是BGR，历史原因"
   ]
  },
  {
   "cell_type": "code",
   "execution_count": 5,
   "metadata": {},
   "outputs": [
    {
     "name": "stdout",
     "output_type": "stream",
     "text": [
      "[INFO] applying small_blur kernel...\n",
      "kW: 7\n",
      "pad: 3\n",
      "[INFO] applying large_blur kernel...\n",
      "kW: 21\n",
      "pad: 10\n",
      "[INFO] applying sharpen kernel...\n",
      "kW: 3\n",
      "pad: 1\n",
      "[INFO] applying laplacian kernel...\n",
      "kW: 3\n",
      "pad: 1\n",
      "[INFO] applying sobel_x kernel...\n",
      "kW: 3\n",
      "pad: 1\n",
      "[INFO] applying sobel_y kernel...\n",
      "kW: 3\n",
      "pad: 1\n",
      "[INFO] applying emboss kernel...\n",
      "kW: 3\n",
      "pad: 1\n"
     ]
    }
   ],
   "source": [
    "image = cv2.imread(\"./beauty.jpg\")\n",
    "gray = cv2.cvtColor(image, cv2.COLOR_BGR2GRAY)\n",
    "\n",
    "for (kernelName, kernel) in kernelBank:\n",
    "    print(\"[INFO] applying {} kernel...\".format(kernelName))\n",
    "    convolveOutput = convolve(gray, kernel)\n",
    "    opencvOutpt = cv2.filter2D(gray, -1 , kernel)\n",
    "    \n",
    "    cv2.imshow(\"Original\", gray)\n",
    "    cv2.imshow(\"{} - convolve\".format(kernelName), convolveOutput)\n",
    "    cv2.imshow(\"{} - opencv\".format(kernelName), opencvOutpt)\n",
    "    cv2.waitKey(0)\n",
    "    cv2.destroyAllWindows()"
   ]
  }
 ],
 "metadata": {
  "kernelspec": {
   "display_name": "Python [conda env:pDL] *",
   "language": "python",
   "name": "conda-env-pDL-py"
  },
  "language_info": {
   "codemirror_mode": {
    "name": "ipython",
    "version": 3
   },
   "file_extension": ".py",
   "mimetype": "text/x-python",
   "name": "python",
   "nbconvert_exporter": "python",
   "pygments_lexer": "ipython3",
   "version": "3.8.5"
  }
 },
 "nbformat": 4,
 "nbformat_minor": 4
}
