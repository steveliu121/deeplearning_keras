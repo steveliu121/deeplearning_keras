{
 "cells": [
  {
   "cell_type": "markdown",
   "metadata": {},
   "source": [
    "# 采用keras库搭建简单神经网络对CIFAR-10数据集分类\n",
    "代码流程同\"keras_mnist.ipynb\"，只是数据集不同，激活函数和网络神经元数量不同。"
   ]
  },
  {
   "cell_type": "code",
   "execution_count": 1,
   "metadata": {},
   "outputs": [],
   "source": [
    "from sklearn.preprocessing import LabelBinarizer\n",
    "from sklearn.metrics import classification_report\n",
    "from keras.models import Sequential\n",
    "from keras.layers.core import Dense\n",
    "from keras.optimizers import SGD\n",
    "from keras.datasets import cifar10\n",
    "import matplotlib.pyplot as plt\n",
    "import numpy as np\n",
    "import argparse"
   ]
  },
  {
   "cell_type": "code",
   "execution_count": null,
   "metadata": {},
   "outputs": [],
   "source": [
    "'''\n",
    "ap = argparse.ArgumentParser()\n",
    "ap.add_argument(\"-o\", \"--output\", required=True,\n",
    "            help=\"path to the output loss/accuracy plot\")\n",
    "args = vars(ap.parse_args())\n",
    "'''"
   ]
  },
  {
   "cell_type": "code",
   "execution_count": 2,
   "metadata": {},
   "outputs": [
    {
     "name": "stdout",
     "output_type": "stream",
     "text": [
      "[INFO] loading CIFAR-10 data...\n",
      "Downloading data from https://www.cs.toronto.edu/~kriz/cifar-10-python.tar.gz\n",
      "170500096/170498071 [==============================] - 289s 2us/step\n",
      "[INFO] load CIFAR-10 dataset ok...\n"
     ]
    }
   ],
   "source": [
    "print(\"[INFO] loading CIFAR-10 data...\")\n",
    "'''\n",
    "默认存储路径~/.keras/datasets/\n",
    "'''\n",
    "((trainX, trainY), (testX, testY)) = cifar10.load_data()\n",
    "trainX = trainX.astype(\"float\") / 255.0\n",
    "testX = testX.astype(\"float\") / 255.0\n",
    "trainX = trainX.reshape((trainX.shape[0], 3072))\n",
    "testX = testX.reshape((testX.shape[0], 3072))\n",
    "print(\"[INFO] load CIFAR-10 dataset ok...\")"
   ]
  },
  {
   "cell_type": "code",
   "execution_count": 3,
   "metadata": {},
   "outputs": [],
   "source": [
    "lb = LabelBinarizer()\n",
    "trainY = lb.fit_transform(trainY)\n",
    "testY = lb.fit_transform(testY)\n",
    "\n",
    "labelNames = [\"airplane\", \"automobile\", \"bird\", \"cat\", \"deer\",\n",
    "    \"dog\", \"frog\", \"horse\", \"ship\", \"truck\"]"
   ]
  },
  {
   "cell_type": "code",
   "execution_count": 5,
   "metadata": {},
   "outputs": [],
   "source": [
    "model = Sequential()\n",
    "model.add(Dense(1024, input_shape=(3072,), activation = \"relu\"))\n",
    "model.add(Dense(512, activation=\"relu\"))\n",
    "model.add(Dense(10, activation=\"softmax\"))"
   ]
  },
  {
   "cell_type": "code",
   "execution_count": 7,
   "metadata": {},
   "outputs": [
    {
     "name": "stdout",
     "output_type": "stream",
     "text": [
      "[INFO] trainning network...\n",
      "Epoch 1/40\n",
      "1563/1563 [==============================] - 27s 17ms/step - loss: 1.8407 - accuracy: 0.3427 - val_loss: 1.7203 - val_accuracy: 0.3893\n",
      "Epoch 2/40\n",
      "1563/1563 [==============================] - 32s 21ms/step - loss: 1.6498 - accuracy: 0.4182 - val_loss: 1.6502 - val_accuracy: 0.4050\n",
      "Epoch 3/40\n",
      "1563/1563 [==============================] - 30s 19ms/step - loss: 1.5683 - accuracy: 0.4462 - val_loss: 1.6236 - val_accuracy: 0.4152\n",
      "Epoch 4/40\n",
      "1563/1563 [==============================] - 31s 20ms/step - loss: 1.5103 - accuracy: 0.4679 - val_loss: 1.5341 - val_accuracy: 0.4571\n",
      "Epoch 5/40\n",
      "1563/1563 [==============================] - 32s 21ms/step - loss: 1.4637 - accuracy: 0.4840 - val_loss: 1.4669 - val_accuracy: 0.4811\n",
      "Epoch 6/40\n",
      "1563/1563 [==============================] - 32s 20ms/step - loss: 1.4242 - accuracy: 0.4998 - val_loss: 1.4477 - val_accuracy: 0.4804\n",
      "Epoch 7/40\n",
      "1563/1563 [==============================] - 32s 21ms/step - loss: 1.3870 - accuracy: 0.5112 - val_loss: 1.5382 - val_accuracy: 0.4512\n",
      "Epoch 8/40\n",
      "1563/1563 [==============================] - 34s 22ms/step - loss: 1.3551 - accuracy: 0.5240 - val_loss: 1.4462 - val_accuracy: 0.4845\n",
      "Epoch 9/40\n",
      "1563/1563 [==============================] - 32s 21ms/step - loss: 1.3256 - accuracy: 0.5333 - val_loss: 1.4406 - val_accuracy: 0.4925\n",
      "Epoch 10/40\n",
      "1563/1563 [==============================] - 32s 20ms/step - loss: 1.2975 - accuracy: 0.5438 - val_loss: 1.3811 - val_accuracy: 0.5070\n",
      "Epoch 11/40\n",
      "1563/1563 [==============================] - 35s 22ms/step - loss: 1.2709 - accuracy: 0.5545 - val_loss: 1.4518 - val_accuracy: 0.4928\n",
      "Epoch 12/40\n",
      "1563/1563 [==============================] - 33s 21ms/step - loss: 1.2479 - accuracy: 0.5604 - val_loss: 1.3564 - val_accuracy: 0.5171\n",
      "Epoch 13/40\n",
      "1563/1563 [==============================] - 34s 22ms/step - loss: 1.2214 - accuracy: 0.5723 - val_loss: 1.4362 - val_accuracy: 0.4922\n",
      "Epoch 14/40\n",
      "1563/1563 [==============================] - 34s 22ms/step - loss: 1.1976 - accuracy: 0.5784 - val_loss: 1.3944 - val_accuracy: 0.5110\n",
      "Epoch 15/40\n",
      "1563/1563 [==============================] - 34s 22ms/step - loss: 1.1741 - accuracy: 0.5884 - val_loss: 1.4009 - val_accuracy: 0.5131\n",
      "Epoch 16/40\n",
      "1563/1563 [==============================] - 35s 22ms/step - loss: 1.1503 - accuracy: 0.5971 - val_loss: 1.3463 - val_accuracy: 0.5200\n",
      "Epoch 17/40\n",
      "1563/1563 [==============================] - 33s 21ms/step - loss: 1.1290 - accuracy: 0.6045 - val_loss: 1.3745 - val_accuracy: 0.5111\n",
      "Epoch 18/40\n",
      "1563/1563 [==============================] - 35s 22ms/step - loss: 1.1068 - accuracy: 0.6119 - val_loss: 1.3672 - val_accuracy: 0.5153\n",
      "Epoch 19/40\n",
      "1563/1563 [==============================] - 36s 23ms/step - loss: 1.0852 - accuracy: 0.6205 - val_loss: 1.3038 - val_accuracy: 0.5398\n",
      "Epoch 20/40\n",
      "1563/1563 [==============================] - 36s 23ms/step - loss: 1.0619 - accuracy: 0.6273 - val_loss: 1.3577 - val_accuracy: 0.5154\n",
      "Epoch 21/40\n",
      "1563/1563 [==============================] - 35s 23ms/step - loss: 1.0455 - accuracy: 0.6333 - val_loss: 1.3732 - val_accuracy: 0.5235\n",
      "Epoch 22/40\n",
      "1563/1563 [==============================] - 36s 23ms/step - loss: 1.0234 - accuracy: 0.6420 - val_loss: 1.3209 - val_accuracy: 0.5360\n",
      "Epoch 23/40\n",
      "1563/1563 [==============================] - 38s 24ms/step - loss: 0.9992 - accuracy: 0.6529 - val_loss: 1.3167 - val_accuracy: 0.5390\n",
      "Epoch 24/40\n",
      "1563/1563 [==============================] - 36s 23ms/step - loss: 0.9805 - accuracy: 0.6562 - val_loss: 1.5596 - val_accuracy: 0.4742\n",
      "Epoch 25/40\n",
      "1563/1563 [==============================] - 37s 24ms/step - loss: 0.9590 - accuracy: 0.6656 - val_loss: 1.3454 - val_accuracy: 0.5364\n",
      "Epoch 26/40\n",
      "1563/1563 [==============================] - 36s 23ms/step - loss: 0.9410 - accuracy: 0.6728 - val_loss: 1.4050 - val_accuracy: 0.5148\n",
      "Epoch 27/40\n",
      "1563/1563 [==============================] - 37s 24ms/step - loss: 0.9188 - accuracy: 0.6778 - val_loss: 1.3818 - val_accuracy: 0.5266\n",
      "Epoch 28/40\n",
      "1563/1563 [==============================] - 34s 22ms/step - loss: 0.8978 - accuracy: 0.6887 - val_loss: 1.4199 - val_accuracy: 0.5250\n",
      "Epoch 29/40\n",
      "1563/1563 [==============================] - 37s 24ms/step - loss: 0.8748 - accuracy: 0.6945 - val_loss: 1.4415 - val_accuracy: 0.5146\n",
      "Epoch 30/40\n",
      "1563/1563 [==============================] - 40s 25ms/step - loss: 0.8573 - accuracy: 0.7016 - val_loss: 1.3883 - val_accuracy: 0.5241\n",
      "Epoch 31/40\n",
      "1563/1563 [==============================] - 38s 24ms/step - loss: 0.8392 - accuracy: 0.7101 - val_loss: 1.3506 - val_accuracy: 0.5381\n",
      "Epoch 32/40\n",
      "1563/1563 [==============================] - 38s 24ms/step - loss: 0.8122 - accuracy: 0.7189 - val_loss: 1.5036 - val_accuracy: 0.4994\n",
      "Epoch 33/40\n",
      "1563/1563 [==============================] - 38s 24ms/step - loss: 0.7962 - accuracy: 0.7239 - val_loss: 1.3965 - val_accuracy: 0.5295\n",
      "Epoch 34/40\n",
      "1563/1563 [==============================] - 38s 24ms/step - loss: 0.7759 - accuracy: 0.7317 - val_loss: 1.3744 - val_accuracy: 0.5375\n",
      "Epoch 35/40\n",
      "1563/1563 [==============================] - 34s 22ms/step - loss: 0.7536 - accuracy: 0.7406 - val_loss: 1.4626 - val_accuracy: 0.5178\n",
      "Epoch 36/40\n",
      "1563/1563 [==============================] - 27s 18ms/step - loss: 0.7338 - accuracy: 0.7479 - val_loss: 1.4014 - val_accuracy: 0.5335\n",
      "Epoch 37/40\n",
      "1563/1563 [==============================] - 30s 19ms/step - loss: 0.7142 - accuracy: 0.7547 - val_loss: 1.3620 - val_accuracy: 0.5491\n",
      "Epoch 38/40\n",
      "1563/1563 [==============================] - 32s 20ms/step - loss: 0.6934 - accuracy: 0.7612 - val_loss: 1.4095 - val_accuracy: 0.5345\n",
      "Epoch 39/40\n",
      "1563/1563 [==============================] - 47s 30ms/step - loss: 0.6732 - accuracy: 0.7682 - val_loss: 1.5430 - val_accuracy: 0.5165\n",
      "Epoch 40/40\n",
      "1563/1563 [==============================] - 28s 18ms/step - loss: 0.6571 - accuracy: 0.7745 - val_loss: 1.5218 - val_accuracy: 0.5200\n"
     ]
    }
   ],
   "source": [
    "print(\"[INFO] trainning network...\")\n",
    "sgd = SGD(0.01)\n",
    "model.compile(loss=\"categorical_crossentropy\", optimizer=sgd,\n",
    "    metrics=[\"accuracy\"])\n",
    "H = model.fit(trainX, trainY, validation_data=(testX, testY),\n",
    "    epochs=40, batch_size=32)"
   ]
  },
  {
   "cell_type": "code",
   "execution_count": 9,
   "metadata": {},
   "outputs": [
    {
     "name": "stdout",
     "output_type": "stream",
     "text": [
      "[INFO] evaluating network...\n",
      "              precision    recall  f1-score   support\n",
      "\n",
      "    airplane       0.37      0.86      0.51      1000\n",
      "  automobile       0.71      0.58      0.64      1000\n",
      "        bird       0.40      0.47      0.44      1000\n",
      "         cat       0.44      0.26      0.33      1000\n",
      "        deer       0.41      0.56      0.47      1000\n",
      "         dog       0.53      0.34      0.42      1000\n",
      "        frog       0.68      0.53      0.59      1000\n",
      "       horse       0.68      0.56      0.61      1000\n",
      "        ship       0.72      0.57      0.64      1000\n",
      "       truck       0.72      0.46      0.56      1000\n",
      "\n",
      "    accuracy                           0.52     10000\n",
      "   macro avg       0.57      0.52      0.52     10000\n",
      "weighted avg       0.57      0.52      0.52     10000\n",
      "\n"
     ]
    }
   ],
   "source": [
    "print(\"[INFO] evaluating network...\")\n",
    "predictions = model.predict(testX, batch_size=32)\n",
    "print(classification_report(testY.argmax(axis=1),\n",
    "                           predictions.argmax(axis=1), target_names=labelNames))"
   ]
  },
  {
   "cell_type": "code",
   "execution_count": 11,
   "metadata": {},
   "outputs": [
    {
     "data": {
      "image/png": "[encoded data removed]",
      "text/plain": [
       "<Figure size 432x288 with 1 Axes>"
      ]
     },
     "metadata": {},
     "output_type": "display_data"
    }
   ],
   "source": [
    "plt.style.use(\"ggplot\")\n",
    "plt.figure()\n",
    "plt.plot(np.arange(0, 40), H.history[\"loss\"], label=\"train_loss\")\n",
    "plt.plot(np.arange(0, 40), H.history[\"val_loss\"], label=\"val_loss\")\n",
    "plt.plot(np.arange(0, 40), H.history[\"accuracy\"], label=\"train_accuracy\")\n",
    "plt.plot(np.arange(0, 40), H.history[\"val_accuracy\"], label=\"val_accuracy\")\n",
    "plt.title(\"Trainning Loss and Accuracy\")\n",
    "plt.xlabel(\"Epoch #\")\n",
    "plt.ylabel(\"Loss/Accuracy\")\n",
    "plt.legend()\n",
    "plt.savefig(\"./results/cifar10_trainning_result\")"
   ]
  },
  {
   "cell_type": "code",
   "execution_count": null,
   "metadata": {},
   "outputs": [],
   "source": []
  }
 ],
 "metadata": {
  "kernelspec": {
   "display_name": "Python [conda env:pDL] *",
   "language": "python",
   "name": "conda-env-pDL-py"
  },
  "language_info": {
   "codemirror_mode": {
    "name": "ipython",
    "version": 3
   },
   "file_extension": ".py",
   "mimetype": "text/x-python",
   "name": "python",
   "nbconvert_exporter": "python",
   "pygments_lexer": "ipython3",
   "version": "3.8.5"
  }
 },
 "nbformat": 4,
 "nbformat_minor": 4
}
