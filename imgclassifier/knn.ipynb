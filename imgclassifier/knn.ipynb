{
 "cells": [
  {
   "cell_type": "markdown",
   "metadata": {},
   "source": [
    "## KNN分类器\n",
    "K-Nearest Neighbor classifier\n",
    "注意：\n",
    "无需学习的一个简单非线性分类器，适合于数据集小，维度少的数据分类\n",
    "K值的选取会影响分类的准确度\n",
    "原理：\n",
    "每次对一个数据分类时，需要计算该数据到训练集（其实不训练，或者叫带标签的先验集）中所有数据的距离（欧氏距离（推荐），曼哈顿距离等），找最近的k个数据，这k个数据就代表了该数据的所属类别，譬如K个数据中有x个A类数据，y个B类数据（x + y = k），那么该数据属于A类的概率x/k，属于B类的概率y/k。"
   ]
  },
  {
   "cell_type": "code",
   "execution_count": 1,
   "metadata": {},
   "outputs": [
    {
     "ename": "ModuleNotFoundError",
     "evalue": "No module named 'imgdatasets.imgload'",
     "output_type": "error",
     "traceback": [
      "\u001b[0;31m---------------------------------------------------------------------------\u001b[0m",
      "\u001b[0;31mModuleNotFoundError\u001b[0m                       Traceback (most recent call last)",
      "\u001b[0;32m<ipython-input-1-4f885f528e4d>\u001b[0m in \u001b[0;36m<module>\u001b[0;34m\u001b[0m\n\u001b[1;32m      7\u001b[0m \u001b[0;32mfrom\u001b[0m \u001b[0msklearn\u001b[0m\u001b[0;34m.\u001b[0m\u001b[0mmodel_selection\u001b[0m \u001b[0;32mimport\u001b[0m \u001b[0mtrain_test_split\u001b[0m \u001b[0;32mas\u001b[0m \u001b[0mTTS\u001b[0m\u001b[0;34m\u001b[0m\u001b[0;34m\u001b[0m\u001b[0m\n\u001b[1;32m      8\u001b[0m \u001b[0;32mfrom\u001b[0m \u001b[0msklearn\u001b[0m\u001b[0;34m.\u001b[0m\u001b[0mmetrics\u001b[0m \u001b[0;32mimport\u001b[0m \u001b[0mclassification_report\u001b[0m \u001b[0;32mas\u001b[0m \u001b[0mCR\u001b[0m\u001b[0;34m\u001b[0m\u001b[0;34m\u001b[0m\u001b[0m\n\u001b[0;32m----> 9\u001b[0;31m \u001b[0;32mfrom\u001b[0m \u001b[0mimgdatasets\u001b[0m\u001b[0;34m.\u001b[0m\u001b[0mimgload\u001b[0m \u001b[0;32mimport\u001b[0m \u001b[0mImgLoad\u001b[0m \u001b[0;32mas\u001b[0m \u001b[0mIL\u001b[0m\u001b[0;34m\u001b[0m\u001b[0;34m\u001b[0m\u001b[0m\n\u001b[0m\u001b[1;32m     10\u001b[0m \u001b[0;32mfrom\u001b[0m \u001b[0mimgpreprocess\u001b[0m\u001b[0;34m.\u001b[0m\u001b[0mimgresize\u001b[0m \u001b[0;32mimport\u001b[0m \u001b[0mImgResize\u001b[0m \u001b[0;32mas\u001b[0m \u001b[0mIR\u001b[0m\u001b[0;34m\u001b[0m\u001b[0;34m\u001b[0m\u001b[0m\n\u001b[1;32m     11\u001b[0m \u001b[0;32mfrom\u001b[0m \u001b[0mimutils\u001b[0m \u001b[0;32mimport\u001b[0m \u001b[0mpaths\u001b[0m\u001b[0;34m\u001b[0m\u001b[0;34m\u001b[0m\u001b[0m\n",
      "\u001b[0;31mModuleNotFoundError\u001b[0m: No module named 'imgdatasets.imgload'"
     ]
    }
   ],
   "source": [
    "'''导入自定义模块'''\n",
    "import sys\n",
    "import os\n",
    "sys.path.append(os.path.abspath(os.path.join(os.getcwd(), \"..\")))\n",
    "\n",
    "from sklearn.neighbors import KNeighborsClassifier as KNNC\n",
    "from sklearn.preprocessing import LabelEncoder as LE\n",
    "from sklearn.model_selection import train_test_split as TTS\n",
    "from sklearn.metrics import classification_report as CR\n",
    "from imgdatasets.imgload import ImgLoad as IL\n",
    "from imgpreprocess.imgresize import ImgResize as IR\n",
    "from imutils import paths\n",
    "import argparse\n",
    "\n",
    "\n",
    "'''\n",
    "匹配输入参数\n",
    "'''\n",
    "ap = argparse.ArgumentParser()\n",
    "ap.add_argument(\"-d\", \"--dataset\", required=True,\n",
    "               help=\"path to input dataset\")\n",
    "ap.add_argument(\"-k\", \"--neighbors\", type=int, default=1,\n",
    "               help=\"# of nearest neighbors for classification\")\n",
    "ap.add_argument(\"-j\", \"--jobs\", type=int, default=-1,\n",
    "               help=\"# of jobs for k-NN distance (-1 uses all acailable cores)\")\n",
    "args = vars(ap.parse_args())\n",
    "\n",
    "print(\"[INFO] loading images...\")\n",
    "imagepaths = list(paths.list_images(args[\"dataset\"]))\n",
    "\n",
    "\n",
    "'''\n",
    "图片序列前处理，resize到指定尺寸，并reshape成flatten格式\n",
    "'''\n",
    "ir = IR(32, 32)\n",
    "il = IL(preprocessors=[ir])\n",
    "(data, labels) = il.load(imagepaths, verbose=500)\n",
    "\n",
    "\n",
    "'''将每一个datapoint（每张图片的array[32, 32, 3]\n",
    "reshape成flatten模式array[3072]，数据集中共3000个datapoint\n",
    "'''\n",
    "data = data.reshape((data.shape[0], 3072))#data.shape = [3000, 32, 32, 3]\n",
    "\n",
    "print(\"[INFO] features matrix: {:.1f}MB\".format(\n",
    "    data.nbytes / (1024 * 1000.0)))\n",
    "\n",
    "\n",
    "'''\n",
    "将字符串labels转换成整型 \n",
    "'''\n",
    "le = LE()\n",
    "labels = le.fit_transform(labels)\n",
    "\n",
    "\n",
    "'''\n",
    "划分数据集，75%trainning set 25% testing set\n",
    "stratify=labels保证trainning set和testing set中数据分布与整个dataset(labels)一致\n",
    "'''\n",
    "(trainX, testX, trainY, testY) = TTS(data, labels,\n",
    "        test_size=0.25, random_state=42, stratify=labels)\n",
    "\n",
    "\n",
    "print(\"[INFO] evaluating K-NN classifier...\")\n",
    "model = KNNC(n_neighbors=args[\"neighbors\"],\n",
    "            n_jobs=args[\"jobs\"])\n",
    "model.fit(trainX, trainY)\n",
    "print(CR(testY, model.predict(testX), target_names=le.classes_))"
   ]
  }
 ],
 "metadata": {
  "kernelspec": {
   "display_name": "Python [conda env:pDL] *",
   "language": "python",
   "name": "conda-env-pDL-py"
  },
  "language_info": {
   "codemirror_mode": {
    "name": "ipython",
    "version": 3
   },
   "file_extension": ".py",
   "mimetype": "text/x-python",
   "name": "python",
   "nbconvert_exporter": "python",
   "pygments_lexer": "ipython3",
   "version": "3.8.5"
  }
 },
 "nbformat": 4,
 "nbformat_minor": 4
}
