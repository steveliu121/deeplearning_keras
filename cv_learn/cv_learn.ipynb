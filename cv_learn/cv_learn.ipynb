{
 "cells": [
  {
   "cell_type": "markdown",
   "metadata": {},
   "source": [
    "# OpenCV在DL_for_CV中的使用"
   ]
  },
  {
   "cell_type": "markdown",
   "metadata": {},
   "source": [
    "## 通过opencv加载图片\n",
    "打印图片的维度，\"H x W x channels\"，注意是\"高 x 宽\"，因为矩阵的存储是\"行 x 列\"；\n",
    "访问某一位置像素(x, y)时也需要注意，应该访问图像矩阵的[y, x]元素；\n",
    "RGB数据的存储顺序是反向的BGR，这是历史遗留问题。"
   ]
  },
  {
   "cell_type": "code",
   "execution_count": 5,
   "metadata": {},
   "outputs": [
    {
     "name": "stdout",
     "output_type": "stream",
     "text": [
      "(1080, 3520, 3)\n",
      "[B G R]: [102 121 125]\n",
      "I'm done\n"
     ]
    }
   ],
   "source": [
    "import cv2\n",
    "image = cv2.imread(\"menu.png\")\n",
    "pix = image[20, 100]\n",
    "print(image.shape)\n",
    "print(\"[B G R]:\", pix)\n",
    "cv2.imshow(\"Image\", image)\n",
    "cv2.waitKey(0)\n",
    "cv2.destroyAllWindows()\n",
    "print(\"I'm done\")"
   ]
  },
  {
   "cell_type": "code",
   "execution_count": null,
   "metadata": {},
   "outputs": [],
   "source": []
  }
 ],
 "metadata": {
  "kernelspec": {
   "display_name": "Python [conda env:pDL] *",
   "language": "python",
   "name": "conda-env-pDL-py"
  },
  "language_info": {
   "codemirror_mode": {
    "name": "ipython",
    "version": 3
   },
   "file_extension": ".py",
   "mimetype": "text/x-python",
   "name": "python",
   "nbconvert_exporter": "python",
   "pygments_lexer": "ipython3",
   "version": "3.8.5"
  }
 },
 "nbformat": 4,
 "nbformat_minor": 4
}
