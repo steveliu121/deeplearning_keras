{
 "cells": [
  {
   "cell_type": "markdown",
   "metadata": {},
   "source": [
    "# 一个单层的CNN多分类网络\n",
    "网络结构由之前我们定义的类ShallowNet构建"
   ]
  },
  {
   "cell_type": "code",
   "execution_count": null,
   "metadata": {},
   "outputs": [],
   "source": [
    "import sys\n",
    "import os\n",
    "sys.path.append(os.path.abspath(os.path.join(os.getcwd(), \"..\")))\n",
    "\n",
    "from sklearn.preprocessing import LabelBinarizer\n",
    "from sklearn.model_selection import train_test_split\n",
    "from sklearn.metrics import classification_report\n",
    "from imgpreprocess.imgtoarray import ImgToArray\n",
    "from imgpreprocess.imgresize import ImgResize\n",
    "from imgdatasets.imgload import ImgLoad\n",
    "from nn.conv.shallownet import ShallowNet\n",
    "from keras.optimizers import SGD\n",
    "from imutils import paths\n",
    "import matplotlib.pyplot as plt\n",
    "import numpy as np\n",
    "import argparse"
   ]
  },
  {
   "cell_type": "code",
   "execution_count": null,
   "metadata": {},
   "outputs": [],
   "source": [
    "'''\n",
    "ap = argparse.ArgumentParser()\n",
    "ap.add_argument(\"-d\", \"--dataset\", required=True,\n",
    "               help=\"path to input dataset\")\n",
    "ap.add_argument(\"-m\", \"--model\", required=True,\n",
    "               help=\"path to output model\")\n",
    "args = vars(ap.parse_args())\n",
    "'''"
   ]
  },
  {
   "cell_type": "code",
   "execution_count": null,
   "metadata": {},
   "outputs": [],
   "source": [
    "print(\"[INFO] loading images...\")\n",
    "#imagePaths = list(paths.list_images(args[\"dataset\"]))\n",
    "imagePaths = list(paths.list_images(\"../imgdatasets/animals3\"))\n",
    "print(\"[INFO] load images dnoe...\")"
   ]
  },
  {
   "cell_type": "code",
   "execution_count": null,
   "metadata": {},
   "outputs": [],
   "source": [
    "print(\"[INFO] images preprocessing...\")\n",
    "resize = ImgResize(32, 32)\n",
    "imgtoarray = ImgToArray()\n",
    "\n",
    "imgload = ImgLoad(preprocessors=[resize, imgtoarray])\n",
    "(data, labels) = imgload.load(imagePaths, verbose=500)\n",
    "data = data.astype(\"float\") / 255.0\n",
    "print(\"[INFO] images preprocess done\")"
   ]
  },
  {
   "cell_type": "code",
   "execution_count": null,
   "metadata": {},
   "outputs": [],
   "source": [
    "print(\"[INFO] train test dataset split\")\n",
    "(trainX, testX, trainY, testY) = train_test_split(data, labels,\n",
    "    test_size=0.25, random_state=42, stratify=labels)\n",
    "lb = LabelBinarizer()\n",
    "trainY = lb.fit_transform(trainY)\n",
    "testY = lb.fit_transform(testY)"
   ]
  },
  {
   "cell_type": "code",
   "execution_count": null,
   "metadata": {},
   "outputs": [],
   "source": [
    "print(\"[INFO] compiling model...\")\n",
    "opt = SGD(lr=0.005)\n",
    "model = ShallowNet.build(width=32, height=32, depth=3, classes=3)\n",
    "model.compile(loss=\"categorical_crossentropy\", optimizer=opt,\n",
    "    metrics=[\"accuracy\"])"
   ]
  },
  {
   "cell_type": "code",
   "execution_count": null,
   "metadata": {},
   "outputs": [],
   "source": [
    "print(\"[INFO] trainning network...\")\n",
    "H = model.fit(trainX, trainY, validation_data=(testX, testY),\n",
    "    batch_size=32, epochs=50, verbose=1)"
   ]
  },
  {
   "cell_type": "code",
   "execution_count": null,
   "metadata": {},
   "outputs": [],
   "source": [
    "print(\"[INFO] serializing network...\")\n",
    "#model.save(args[\"model\"])\n",
    "model.save(\"shallownet_animal3_weights.hdf5\")"
   ]
  },
  {
   "cell_type": "code",
   "execution_count": null,
   "metadata": {},
   "outputs": [],
   "source": [
    "print(\"[INFO] evaluating network...\")\n",
    "predictions = model.predict(testX, batch_size=32)\n",
    "print(classification_report(testY.argmax(axis=1),\n",
    "    predictions.argmax(axis=1),\n",
    "    target_names=[str(x) for x in lb.classes_]))"
   ]
  },
  {
   "cell_type": "code",
   "execution_count": null,
   "metadata": {},
   "outputs": [],
   "source": [
    "plt.style.use(\"ggplot\")\n",
    "plt.figure()\n",
    "plt.plot(np.arange(0, 50), H.history[\"loss\"], label=\"train_loss\")\n",
    "plt.plot(np.arange(0, 50), H.history[\"val_loss\"], label=\"val_loss\")\n",
    "plt.plot(np.arange(0, 50), H.history[\"accuracy\"], label=\"train_accuracy\")\n",
    "plt.plot(np.arange(0, 50), H.history[\"val_accuracy\"], label=\"val_accuracy\")\n",
    "plt.title(\"Trainning Loss and Accuracy\")\n",
    "plt.xlabel(\"Epoch #\")\n",
    "plt.ylabel(\"Loss/Accuracy\")\n",
    "plt.legend()\n",
    "plt.savefig(\"./results/shallownet_animals3_trainning_result\")"
   ]
  },
  {
   "cell_type": "code",
   "execution_count": null,
   "metadata": {},
   "outputs": [],
   "source": []
  }
 ],
 "metadata": {
  "kernelspec": {
   "display_name": "Python [conda env:pDL] *",
   "language": "python",
   "name": "conda-env-pDL-py"
  },
  "language_info": {
   "codemirror_mode": {
    "name": "ipython",
    "version": 3
   },
   "file_extension": ".py",
   "mimetype": "text/x-python",
   "name": "python",
   "nbconvert_exporter": "python",
   "pygments_lexer": "ipython3",
   "version": "3.8.5"
  }
 },
 "nbformat": 4,
 "nbformat_minor": 4
}
