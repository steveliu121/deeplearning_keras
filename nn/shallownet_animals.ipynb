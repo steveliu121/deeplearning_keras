{
 "cells": [
  {
   "cell_type": "markdown",
   "metadata": {},
   "source": [
    "# 一个单层的CNN多分类网络\n",
    "网络结构由之前我们定义的类ShallowNet构建"
   ]
  },
  {
   "cell_type": "code",
   "execution_count": 3,
   "metadata": {},
   "outputs": [],
   "source": [
    "import sys\n",
    "import os\n",
    "sys.path.append(os.path.abspath(os.path.join(os.getcwd(), \"..\")))\n",
    "\n",
    "from sklearn.preprocessing import LabelBinarizer\n",
    "from sklearn.model_selection import train_test_split\n",
    "from sklearn.metrics import classification_report\n",
    "from imgpreprocess.imgtoarray import ImgToArray\n",
    "from imgpreprocess.imgresize import ImgResize\n",
    "from imgdatasets.imgload import ImgLoad\n",
    "from nn.conv.shallownet import ShallowNet\n",
    "from keras.optimizers import SGD\n",
    "from imutils import paths\n",
    "import matplotlib.pyplot as plt\n",
    "import numpy as np\n",
    "import argparse"
   ]
  },
  {
   "cell_type": "code",
   "execution_count": 2,
   "metadata": {},
   "outputs": [],
   "source": [
    "'''\n",
    "ap = argparse.ArgumentParser()\n",
    "ap.add_argument(\"-d\", \"--dataset\", required=True,\n",
    "               help=\"path to input dataset\")\n",
    "args = vars(ap.parse_args())\n",
    "'''"
   ]
  },
  {
   "cell_type": "code",
   "execution_count": 4,
   "metadata": {},
   "outputs": [
    {
     "name": "stdout",
     "output_type": "stream",
     "text": [
      "[INFO] loading images...\n",
      "[INFO] load images dnoe...\n"
     ]
    }
   ],
   "source": [
    "print(\"[INFO] loading images...\")\n",
    "#imagePaths = list(paths.list_images(args[\"dataset\"]))\n",
    "imagePaths = list(paths.list_images(\"../imgdatasets/animals3\"))\n",
    "print(\"[INFO] load images dnoe...\")"
   ]
  },
  {
   "cell_type": "code",
   "execution_count": 8,
   "metadata": {},
   "outputs": [
    {
     "name": "stdout",
     "output_type": "stream",
     "text": [
      "[INFO] images preprocessing...\n",
      "[INFO] images preprocess done\n"
     ]
    }
   ],
   "source": [
    "print(\"[INFO] images preprocessing...\")\n",
    "resize = ImgResize(32, 32)\n",
    "imgtoarray = ImgToArray()\n",
    "\n",
    "imgload = ImgLoad(preprocessors=[resize, imgtoarray])\n",
    "(data, labels) = imgload.load(imagePaths, verbose=500)\n",
    "data = data.astype(\"float\") / 255.0\n",
    "print(\"[INFO] images preprocess done\")"
   ]
  },
  {
   "cell_type": "code",
   "execution_count": 16,
   "metadata": {},
   "outputs": [
    {
     "name": "stdout",
     "output_type": "stream",
     "text": [
      "[INFO] train test dataset split\n"
     ]
    }
   ],
   "source": [
    "print(\"[INFO] train test dataset split\")\n",
    "(trainX, testX, trainY, testY) = train_test_split(data, labels,\n",
    "    test_size=0.25, random_state=42, stratify=labels)\n",
    "lb = LabelBinarizer()\n",
    "trainY = lb.fit_transform(trainY)\n",
    "testY = lb.fit_transform(testY)"
   ]
  },
  {
   "cell_type": "code",
   "execution_count": 11,
   "metadata": {},
   "outputs": [
    {
     "name": "stdout",
     "output_type": "stream",
     "text": [
      "[INFO] compiling model...\n"
     ]
    }
   ],
   "source": [
    "print(\"[INFO] compiling model...\")\n",
    "opt = SGD(lr=0.005)\n",
    "model = ShallowNet.build(width=32, height=32, depth=3, classes=3)\n",
    "model.compile(loss=\"categorical_crossentropy\", optimizer=opt,\n",
    "    metrics=[\"accuracy\"])"
   ]
  },
  {
   "cell_type": "code",
   "execution_count": 12,
   "metadata": {},
   "outputs": [
    {
     "name": "stdout",
     "output_type": "stream",
     "text": [
      "[INFO] trainning network...\n",
      "Epoch 1/50\n",
      "210/210 [==============================] - 10s 45ms/step - loss: 0.9588 - accuracy: 0.5619 - val_loss: 1.2983 - val_accuracy: 0.3054\n",
      "Epoch 2/50\n",
      "210/210 [==============================] - 10s 46ms/step - loss: 0.8804 - accuracy: 0.6161 - val_loss: 0.8736 - val_accuracy: 0.6019\n",
      "Epoch 3/50\n",
      "210/210 [==============================] - 11s 52ms/step - loss: 0.8521 - accuracy: 0.6289 - val_loss: 0.8532 - val_accuracy: 0.6270\n",
      "Epoch 4/50\n",
      "210/210 [==============================] - 12s 56ms/step - loss: 0.8355 - accuracy: 0.6385 - val_loss: 0.8511 - val_accuracy: 0.6368\n",
      "Epoch 5/50\n",
      "210/210 [==============================] - 13s 64ms/step - loss: 0.8217 - accuracy: 0.6494 - val_loss: 0.8342 - val_accuracy: 0.6413\n",
      "Epoch 6/50\n",
      "210/210 [==============================] - 10s 49ms/step - loss: 0.8086 - accuracy: 0.6555 - val_loss: 0.8328 - val_accuracy: 0.6319\n",
      "Epoch 7/50\n",
      "210/210 [==============================] - 9s 44ms/step - loss: 0.7977 - accuracy: 0.6576 - val_loss: 0.8221 - val_accuracy: 0.6565\n",
      "Epoch 8/50\n",
      "210/210 [==============================] - 10s 46ms/step - loss: 0.7856 - accuracy: 0.6655 - val_loss: 0.8261 - val_accuracy: 0.6476\n",
      "Epoch 9/50\n",
      "210/210 [==============================] - 12s 55ms/step - loss: 0.7761 - accuracy: 0.6700 - val_loss: 0.8246 - val_accuracy: 0.6471\n",
      "Epoch 10/50\n",
      "210/210 [==============================] - 11s 52ms/step - loss: 0.7651 - accuracy: 0.6741 - val_loss: 0.8122 - val_accuracy: 0.6476\n",
      "Epoch 11/50\n",
      "210/210 [==============================] - 11s 52ms/step - loss: 0.7529 - accuracy: 0.6820 - val_loss: 0.8311 - val_accuracy: 0.6489\n",
      "Epoch 12/50\n",
      "210/210 [==============================] - 11s 51ms/step - loss: 0.7450 - accuracy: 0.6817 - val_loss: 0.8040 - val_accuracy: 0.6462\n",
      "Epoch 13/50\n",
      "210/210 [==============================] - 11s 52ms/step - loss: 0.7340 - accuracy: 0.6908 - val_loss: 0.7873 - val_accuracy: 0.6637\n",
      "Epoch 14/50\n",
      "210/210 [==============================] - 13s 60ms/step - loss: 0.7233 - accuracy: 0.6962 - val_loss: 0.7808 - val_accuracy: 0.6628\n",
      "Epoch 15/50\n",
      "210/210 [==============================] - 10s 49ms/step - loss: 0.7116 - accuracy: 0.7037 - val_loss: 0.7977 - val_accuracy: 0.6543\n",
      "Epoch 16/50\n",
      "210/210 [==============================] - 12s 55ms/step - loss: 0.7046 - accuracy: 0.7061 - val_loss: 0.7493 - val_accuracy: 0.6829\n",
      "Epoch 17/50\n",
      "210/210 [==============================] - 11s 54ms/step - loss: 0.6960 - accuracy: 0.7116 - val_loss: 0.7528 - val_accuracy: 0.6946\n",
      "Epoch 18/50\n",
      "210/210 [==============================] - 13s 64ms/step - loss: 0.6844 - accuracy: 0.7189 - val_loss: 0.7337 - val_accuracy: 0.6950\n",
      "Epoch 19/50\n",
      "210/210 [==============================] - 9s 45ms/step - loss: 0.6739 - accuracy: 0.7223 - val_loss: 0.7431 - val_accuracy: 0.6977\n",
      "Epoch 20/50\n",
      "210/210 [==============================] - 11s 51ms/step - loss: 0.6647 - accuracy: 0.7294 - val_loss: 0.8263 - val_accuracy: 0.6520\n",
      "Epoch 21/50\n",
      "210/210 [==============================] - 9s 42ms/step - loss: 0.6575 - accuracy: 0.7310 - val_loss: 0.7495 - val_accuracy: 0.6892\n",
      "Epoch 22/50\n",
      "210/210 [==============================] - 11s 52ms/step - loss: 0.6477 - accuracy: 0.7374 - val_loss: 0.7117 - val_accuracy: 0.7085\n",
      "Epoch 23/50\n",
      "210/210 [==============================] - 11s 53ms/step - loss: 0.6388 - accuracy: 0.7450 - val_loss: 0.7099 - val_accuracy: 0.7103\n",
      "Epoch 24/50\n",
      "210/210 [==============================] - 11s 54ms/step - loss: 0.6315 - accuracy: 0.7456 - val_loss: 0.7187 - val_accuracy: 0.7040\n",
      "Epoch 25/50\n",
      "210/210 [==============================] - 11s 52ms/step - loss: 0.6229 - accuracy: 0.7500 - val_loss: 0.7057 - val_accuracy: 0.7107\n",
      "Epoch 26/50\n",
      "210/210 [==============================] - 10s 49ms/step - loss: 0.6130 - accuracy: 0.7571 - val_loss: 0.6929 - val_accuracy: 0.7156\n",
      "Epoch 27/50\n",
      "210/210 [==============================] - 10s 50ms/step - loss: 0.6056 - accuracy: 0.7612 - val_loss: 0.7281 - val_accuracy: 0.7009\n",
      "Epoch 28/50\n",
      "210/210 [==============================] - 8s 40ms/step - loss: 0.6015 - accuracy: 0.7597 - val_loss: 0.7062 - val_accuracy: 0.7035\n",
      "Epoch 29/50\n",
      "210/210 [==============================] - 9s 43ms/step - loss: 0.5890 - accuracy: 0.7652 - val_loss: 0.6948 - val_accuracy: 0.7147\n",
      "Epoch 30/50\n",
      "210/210 [==============================] - 10s 47ms/step - loss: 0.5868 - accuracy: 0.7668 - val_loss: 0.7017 - val_accuracy: 0.7080\n",
      "Epoch 31/50\n",
      "210/210 [==============================] - 9s 44ms/step - loss: 0.5761 - accuracy: 0.7746 - val_loss: 0.6743 - val_accuracy: 0.7286\n",
      "Epoch 32/50\n",
      "210/210 [==============================] - 11s 55ms/step - loss: 0.5721 - accuracy: 0.7721 - val_loss: 0.7177 - val_accuracy: 0.7067\n",
      "Epoch 33/50\n",
      "210/210 [==============================] - 10s 50ms/step - loss: 0.5659 - accuracy: 0.7789 - val_loss: 0.7009 - val_accuracy: 0.6986\n",
      "Epoch 34/50\n",
      "210/210 [==============================] - 10s 50ms/step - loss: 0.5603 - accuracy: 0.7812 - val_loss: 0.7429 - val_accuracy: 0.6959\n",
      "Epoch 35/50\n",
      "210/210 [==============================] - 12s 56ms/step - loss: 0.5546 - accuracy: 0.7791 - val_loss: 0.6951 - val_accuracy: 0.7152\n",
      "Epoch 36/50\n",
      "210/210 [==============================] - 11s 51ms/step - loss: 0.5477 - accuracy: 0.7873 - val_loss: 0.6654 - val_accuracy: 0.7318\n",
      "Epoch 37/50\n",
      "210/210 [==============================] - 10s 47ms/step - loss: 0.5415 - accuracy: 0.7910 - val_loss: 0.7274 - val_accuracy: 0.6897\n",
      "Epoch 38/50\n",
      "210/210 [==============================] - 12s 55ms/step - loss: 0.5372 - accuracy: 0.7931 - val_loss: 0.6754 - val_accuracy: 0.7246\n",
      "Epoch 39/50\n",
      "210/210 [==============================] - 9s 43ms/step - loss: 0.5316 - accuracy: 0.7940 - val_loss: 0.6700 - val_accuracy: 0.7250\n",
      "Epoch 40/50\n",
      "210/210 [==============================] - 10s 48ms/step - loss: 0.5304 - accuracy: 0.7936 - val_loss: 0.6661 - val_accuracy: 0.7322\n",
      "Epoch 41/50\n",
      "210/210 [==============================] - 8s 40ms/step - loss: 0.5228 - accuracy: 0.7982 - val_loss: 0.6881 - val_accuracy: 0.7277\n",
      "Epoch 42/50\n",
      "210/210 [==============================] - 11s 53ms/step - loss: 0.5169 - accuracy: 0.8001 - val_loss: 0.6799 - val_accuracy: 0.7089\n",
      "Epoch 43/50\n",
      "210/210 [==============================] - 11s 54ms/step - loss: 0.5136 - accuracy: 0.8015 - val_loss: 0.6799 - val_accuracy: 0.7304\n",
      "Epoch 44/50\n",
      "210/210 [==============================] - 13s 60ms/step - loss: 0.5094 - accuracy: 0.8044 - val_loss: 0.7002 - val_accuracy: 0.7040\n",
      "Epoch 45/50\n",
      "210/210 [==============================] - 13s 60ms/step - loss: 0.5048 - accuracy: 0.8074 - val_loss: 0.6741 - val_accuracy: 0.7326\n",
      "Epoch 46/50\n",
      "210/210 [==============================] - 13s 64ms/step - loss: 0.5006 - accuracy: 0.8074 - val_loss: 0.7199 - val_accuracy: 0.7201\n",
      "Epoch 47/50\n",
      "210/210 [==============================] - 13s 62ms/step - loss: 0.4943 - accuracy: 0.8106 - val_loss: 0.6683 - val_accuracy: 0.7353\n",
      "Epoch 48/50\n",
      "210/210 [==============================] - 13s 60ms/step - loss: 0.4925 - accuracy: 0.8136 - val_loss: 0.6587 - val_accuracy: 0.7398\n",
      "Epoch 49/50\n",
      "210/210 [==============================] - 13s 64ms/step - loss: 0.4867 - accuracy: 0.8127 - val_loss: 0.6946 - val_accuracy: 0.7282\n",
      "Epoch 50/50\n",
      "210/210 [==============================] - 13s 62ms/step - loss: 0.4816 - accuracy: 0.8156 - val_loss: 0.6676 - val_accuracy: 0.7259\n"
     ]
    }
   ],
   "source": [
    "print(\"[INFO] trainning network...\")\n",
    "H = model.fit(trainX, trainY, validation_data=(testX, testY),\n",
    "    batch_size=32, epochs=50, verbose=1)"
   ]
  },
  {
   "cell_type": "code",
   "execution_count": 17,
   "metadata": {},
   "outputs": [
    {
     "name": "stdout",
     "output_type": "stream",
     "text": [
      "[INFO] evaluating network...\n",
      "              precision    recall  f1-score   support\n",
      "\n",
      "        cane       0.77      0.85      0.81      1216\n",
      "     cavallo       0.64      0.71      0.67       656\n",
      "    elefante       0.76      0.34      0.47       361\n",
      "\n",
      "    accuracy                           0.73      2233\n",
      "   macro avg       0.72      0.63      0.65      2233\n",
      "weighted avg       0.73      0.73      0.71      2233\n",
      "\n"
     ]
    }
   ],
   "source": [
    "print(\"[INFO] evaluating network...\")\n",
    "predictions = model.predict(testX, batch_size=32)\n",
    "print(classification_report(testY.argmax(axis=1),\n",
    "    predictions.argmax(axis=1),\n",
    "    target_names=[str(x) for x in lb.classes_]))"
   ]
  },
  {
   "cell_type": "code",
   "execution_count": 14,
   "metadata": {},
   "outputs": [
    {
     "data": {
      "image/png": "[encoded data removed]",
      "text/plain": [
       "<Figure size 432x288 with 1 Axes>"
      ]
     },
     "metadata": {},
     "output_type": "display_data"
    }
   ],
   "source": [
    "plt.style.use(\"ggplot\")\n",
    "plt.figure()\n",
    "plt.plot(np.arange(0, 50), H.history[\"loss\"], label=\"train_loss\")\n",
    "plt.plot(np.arange(0, 50), H.history[\"val_loss\"], label=\"val_loss\")\n",
    "plt.plot(np.arange(0, 50), H.history[\"accuracy\"], label=\"train_accuracy\")\n",
    "plt.plot(np.arange(0, 50), H.history[\"val_accuracy\"], label=\"val_accuracy\")\n",
    "plt.title(\"Trainning Loss and Accuracy\")\n",
    "plt.xlabel(\"Epoch #\")\n",
    "plt.ylabel(\"Loss/Accuracy\")\n",
    "plt.legend()\n",
    "plt.savefig(\"./results/shallownet_animals3_trainning_result\")"
   ]
  },
  {
   "cell_type": "code",
   "execution_count": null,
   "metadata": {},
   "outputs": [],
   "source": []
  }
 ],
 "metadata": {
  "kernelspec": {
   "display_name": "Python [conda env:pDL] *",
   "language": "python",
   "name": "conda-env-pDL-py"
  },
  "language_info": {
   "codemirror_mode": {
    "name": "ipython",
    "version": 3
   },
   "file_extension": ".py",
   "mimetype": "text/x-python",
   "name": "python",
   "nbconvert_exporter": "python",
   "pygments_lexer": "ipython3",
   "version": "3.8.5"
  }
 },
 "nbformat": 4,
 "nbformat_minor": 4
}
