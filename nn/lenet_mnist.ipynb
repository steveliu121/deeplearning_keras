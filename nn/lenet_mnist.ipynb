{
 "cells": [
  {
   "cell_type": "markdown",
   "metadata": {},
   "source": [
    "# LeNet网络训练"
   ]
  },
  {
   "cell_type": "code",
   "execution_count": 1,
   "metadata": {},
   "outputs": [],
   "source": [
    "import os\n",
    "import sys\n",
    "\n",
    "sys.path.append(os.path.abspath(os.path.join(os.getcwd(), \"../\")))\n",
    "\n",
    "from keras import backend as K\n",
    "from sklearn import datasets\n",
    "from sklearn.preprocessing import LabelBinarizer\n",
    "from sklearn.model_selection import train_test_split\n",
    "from sklearn.metrics import classification_report\n",
    "\n",
    "from keras.optimizers import SGD\n",
    "from nn.conv.lenet import LeNet\n",
    "\n",
    "import matplotlib.pyplot as plt\n",
    "import numpy as np"
   ]
  },
  {
   "cell_type": "code",
   "execution_count": 2,
   "metadata": {},
   "outputs": [
    {
     "name": "stdout",
     "output_type": "stream",
     "text": [
      "[INFO] loading MNIST dataset...\n",
      "[INFO] load MNIST dataset done\n"
     ]
    }
   ],
   "source": [
    "print(\"[INFO] loading MNIST dataset...\")\n",
    "dataset = datasets.fetch_openml(name=\"mnist_784\",\n",
    "                                data_home=os.path.abspath(\n",
    "                                    os.path.join(os.getcwd(),\n",
    "                                                 \"../imgdatasets\")))\n",
    "print(\"[INFO] load MNIST dataset done\")"
   ]
  },
  {
   "cell_type": "code",
   "execution_count": 3,
   "metadata": {},
   "outputs": [
    {
     "name": "stdout",
     "output_type": "stream",
     "text": [
      "[INFO] dataset preprocess...\n"
     ]
    }
   ],
   "source": [
    "print(\"[INFO] dataset preprocess...\")\n",
    "data = dataset.data\n",
    "if K.image_data_format == \"channels_first\":\n",
    "    data = data.reshape((data.shape[0], 1, 28, 28))\n",
    "else:\n",
    "    data = data.reshape((data.shape[0], 28, 28, 1))\n",
    "\n",
    "data = data.astype(\"float\") / 255.0\n",
    "dataset.target.astype(\"int\")\n",
    "\n",
    "(trainX, testX, trainY, testY) = train_test_split(data,\n",
    "                                                  dataset.target,\n",
    "                                                  test_size=0.25,\n",
    "                                                  random_state=42,\n",
    "                                                  stratify=dataset.target)\n",
    "lb = LabelBinarizer()\n",
    "trainY = lb.fit_transform(trainY)\n",
    "testY = lb.fit_transform(testY)"
   ]
  },
  {
   "cell_type": "code",
   "execution_count": 4,
   "metadata": {},
   "outputs": [
    {
     "name": "stdout",
     "output_type": "stream",
     "text": [
      "[INFO] compiling model...\n"
     ]
    }
   ],
   "source": [
    "print(\"[INFO] compiling model...\")\n",
    "opt = SGD(lr=0.01)\n",
    "model = LeNet.build(width=28, height=28, depth=1, classes=10)\n",
    "model.compile(loss=\"categorical_crossentropy\",\n",
    "              optimizer=opt,\n",
    "              metrics=[\"accuracy\"])"
   ]
  },
  {
   "cell_type": "code",
   "execution_count": 5,
   "metadata": {},
   "outputs": [
    {
     "name": "stdout",
     "output_type": "stream",
     "text": [
      "[INFO] training network...\n",
      "Epoch 1/20\n",
      "411/411 [==============================] - 74s 180ms/step - loss: 1.1806 - accuracy: 0.6906 - val_loss: 0.5836 - val_accuracy: 0.7933\n",
      "Epoch 2/20\n",
      "411/411 [==============================] - 77s 187ms/step - loss: 0.3362 - accuracy: 0.9012 - val_loss: 0.3520 - val_accuracy: 0.8929\n",
      "Epoch 3/20\n",
      "411/411 [==============================] - 75s 182ms/step - loss: 0.2503 - accuracy: 0.9264 - val_loss: 0.3550 - val_accuracy: 0.8823\n",
      "Epoch 4/20\n",
      "411/411 [==============================] - 80s 195ms/step - loss: 0.2036 - accuracy: 0.9399 - val_loss: 0.2099 - val_accuracy: 0.9364\n",
      "Epoch 5/20\n",
      "411/411 [==============================] - 78s 190ms/step - loss: 0.1739 - accuracy: 0.9485 - val_loss: 0.1968 - val_accuracy: 0.9374\n",
      "Epoch 6/20\n",
      "411/411 [==============================] - 75s 183ms/step - loss: 0.1517 - accuracy: 0.9549 - val_loss: 0.1531 - val_accuracy: 0.9518\n",
      "Epoch 7/20\n",
      "411/411 [==============================] - 69s 167ms/step - loss: 0.1346 - accuracy: 0.9602 - val_loss: 0.1407 - val_accuracy: 0.9576\n",
      "Epoch 8/20\n",
      "411/411 [==============================] - 76s 185ms/step - loss: 0.1216 - accuracy: 0.9640 - val_loss: 0.1253 - val_accuracy: 0.9621\n",
      "Epoch 9/20\n",
      "411/411 [==============================] - 78s 189ms/step - loss: 0.1110 - accuracy: 0.9669 - val_loss: 0.2804 - val_accuracy: 0.9114\n",
      "Epoch 10/20\n",
      "411/411 [==============================] - 78s 189ms/step - loss: 0.1032 - accuracy: 0.9695 - val_loss: 0.1267 - val_accuracy: 0.9607\n",
      "Epoch 11/20\n",
      "411/411 [==============================] - 76s 184ms/step - loss: 0.0957 - accuracy: 0.9711 - val_loss: 0.1621 - val_accuracy: 0.9488\n",
      "Epoch 12/20\n",
      "411/411 [==============================] - 74s 180ms/step - loss: 0.0898 - accuracy: 0.9731 - val_loss: 0.0959 - val_accuracy: 0.9706\n",
      "Epoch 13/20\n",
      "411/411 [==============================] - 75s 183ms/step - loss: 0.0840 - accuracy: 0.9747 - val_loss: 0.1133 - val_accuracy: 0.9654\n",
      "Epoch 14/20\n",
      "411/411 [==============================] - 78s 190ms/step - loss: 0.0798 - accuracy: 0.9761 - val_loss: 0.1205 - val_accuracy: 0.9610\n",
      "Epoch 15/20\n",
      "411/411 [==============================] - 80s 194ms/step - loss: 0.0754 - accuracy: 0.9774 - val_loss: 0.1800 - val_accuracy: 0.9399\n",
      "Epoch 16/20\n",
      "411/411 [==============================] - 84s 205ms/step - loss: 0.0723 - accuracy: 0.9786 - val_loss: 0.0797 - val_accuracy: 0.9745\n",
      "Epoch 17/20\n",
      "411/411 [==============================] - 73s 178ms/step - loss: 0.0695 - accuracy: 0.9792 - val_loss: 0.0808 - val_accuracy: 0.9751\n",
      "Epoch 18/20\n",
      "411/411 [==============================] - 78s 190ms/step - loss: 0.0659 - accuracy: 0.9802 - val_loss: 0.0763 - val_accuracy: 0.9765\n",
      "Epoch 19/20\n",
      "411/411 [==============================] - 77s 189ms/step - loss: 0.0635 - accuracy: 0.9810 - val_loss: 0.0742 - val_accuracy: 0.9778\n",
      "Epoch 20/20\n",
      "411/411 [==============================] - 84s 204ms/step - loss: 0.0608 - accuracy: 0.9816 - val_loss: 0.0694 - val_accuracy: 0.9786\n"
     ]
    }
   ],
   "source": [
    "print(\"[INFO] training network...\")\n",
    "H = model.fit(trainX,\n",
    "              trainY,\n",
    "              validation_data=(testX, testY),\n",
    "              batch_size=128,\n",
    "              epochs=20,\n",
    "              verbose=1)"
   ]
  },
  {
   "cell_type": "code",
   "execution_count": 7,
   "metadata": {},
   "outputs": [
    {
     "name": "stdout",
     "output_type": "stream",
     "text": [
      "[INFO] evaluating network...\n",
      "              precision    recall  f1-score   support\n",
      "\n",
      "           0       0.98      0.99      0.99      1726\n",
      "           1       0.98      0.99      0.98      1969\n",
      "           2       0.99      0.98      0.98      1748\n",
      "           3       0.97      0.97      0.97      1785\n",
      "           4       0.98      0.98      0.98      1706\n",
      "           5       0.98      0.98      0.98      1578\n",
      "           6       0.99      0.99      0.99      1719\n",
      "           7       0.99      0.97      0.98      1823\n",
      "           8       0.97      0.98      0.97      1706\n",
      "           9       0.96      0.97      0.96      1740\n",
      "\n",
      "    accuracy                           0.98     17500\n",
      "   macro avg       0.98      0.98      0.98     17500\n",
      "weighted avg       0.98      0.98      0.98     17500\n",
      "\n"
     ]
    }
   ],
   "source": [
    "print(\"[INFO] evaluating network...\")\n",
    "predictions = model.predict(testX, batch_size=128)\n",
    "print(\n",
    "    classification_report(testY.argmax(axis=1),\n",
    "                          predictions.argmax(axis=1),\n",
    "                          target_names=[str(x) for x in lb.classes_]))"
   ]
  },
  {
   "cell_type": "code",
   "execution_count": 8,
   "metadata": {},
   "outputs": [
    {
     "data": {
      "image/png": "[encoded data removed]",
      "text/plain": [
       "<Figure size 432x288 with 1 Axes>"
      ]
     },
     "metadata": {},
     "output_type": "display_data"
    }
   ],
   "source": [
    "plt.style.use(\"ggplot\")\n",
    "plt.figure()\n",
    "plt.plot(np.arange(0, 20), H.history[\"loss\"], label=\"train_loss\")\n",
    "plt.plot(np.arange(0, 20), H.history[\"val_loss\"], label=\"val_loss\")\n",
    "plt.plot(np.arange(0, 20), H.history[\"accuracy\"], label=\"train_accuracy\")\n",
    "plt.plot(np.arange(0, 20), H.history[\"val_accuracy\"], label=\"val_accuracy\")\n",
    "plt.title(\"Training Loss and Accuracy\")\n",
    "plt.xlabel(\"Epoch #\")\n",
    "plt.ylabel(\"Loss/Accuracy\")\n",
    "plt.legend()\n",
    "plt.show()"
   ]
  }
 ],
 "metadata": {
  "kernelspec": {
   "display_name": "Python [conda env:pDL] *",
   "language": "python",
   "name": "conda-env-pDL-py"
  },
  "language_info": {
   "codemirror_mode": {
    "name": "ipython",
    "version": 3
   },
   "file_extension": ".py",
   "mimetype": "text/x-python",
   "name": "python",
   "nbconvert_exporter": "python",
   "pygments_lexer": "ipython3",
   "version": "3.8.5"
  },
  "toc": {
   "base_numbering": 1,
   "nav_menu": {},
   "number_sections": true,
   "sideBar": true,
   "skip_h1_title": false,
   "title_cell": "Table of Contents",
   "title_sidebar": "Contents",
   "toc_cell": false,
   "toc_position": {},
   "toc_section_display": true,
   "toc_window_display": false
  },
  "varInspector": {
   "cols": {
    "lenName": 16,
    "lenType": 16,
    "lenVar": 40
   },
   "kernels_config": {
    "python": {
     "delete_cmd_postfix": "",
     "delete_cmd_prefix": "del ",
     "library": "var_list.py",
     "varRefreshCmd": "print(var_dic_list())"
    },
    "r": {
     "delete_cmd_postfix": ") ",
     "delete_cmd_prefix": "rm(",
     "library": "var_list.r",
     "varRefreshCmd": "cat(var_dic_list()) "
    }
   },
   "position": {
    "height": "143.95px",
    "left": "598px",
    "right": "20px",
    "top": "123px",
    "width": "350px"
   },
   "types_to_exclude": [
    "module",
    "function",
    "builtin_function_or_method",
    "instance",
    "_Feature"
   ],
   "window_display": false
  }
 },
 "nbformat": 4,
 "nbformat_minor": 4
}
