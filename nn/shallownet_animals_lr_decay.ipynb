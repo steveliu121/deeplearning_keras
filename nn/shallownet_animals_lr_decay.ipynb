{
 "cells": [
  {
   "cell_type": "markdown",
   "metadata": {},
   "source": [
    "# learning rate decay \n",
    "网络结构由之前我们定义的类ShallowNet构建\n",
    "为了评估learning rate decay对网络过拟合带来的改进，网络中添加了learning rate decay模块"
   ]
  },
  {
   "cell_type": "code",
   "execution_count": 1,
   "metadata": {},
   "outputs": [],
   "source": [
    "import sys\n",
    "import os\n",
    "sys.path.append(os.path.abspath(os.path.join(os.getcwd(), \"..\")))\n",
    "\n",
    "from sklearn.preprocessing import LabelBinarizer\n",
    "from sklearn.model_selection import train_test_split\n",
    "from sklearn.metrics import classification_report\n",
    "from imgpreprocess.imgtoarray import ImgToArray\n",
    "from imgpreprocess.imgresize import ImgResize\n",
    "from imgdatasets.imgload import ImgLoad\n",
    "from nn.conv.shallownet import ShallowNet\n",
    "from keras.optimizers import SGD\n",
    "from imutils import paths\n",
    "import matplotlib.pyplot as plt\n",
    "import numpy as np\n",
    "import argparse\n",
    "\n",
    "from keras.callbacks import LearningRateScheduler"
   ]
  },
  {
   "cell_type": "markdown",
   "metadata": {},
   "source": [
    "这里定义我们的learning rate decay调整函数，并将其作为模型训练时的回调函数使用"
   ]
  },
  {
   "cell_type": "code",
   "execution_count": 2,
   "metadata": {},
   "outputs": [],
   "source": [
    "def lr_step_decay(epoch):\n",
    "    initAlpha = 0.005\n",
    "    factor = 0.9\n",
    "    dropEvery = 5\n",
    "    \n",
    "    alpha = initAlpha * (factor ** np.floor((1 + epoch) / dropEvery))\n",
    "    print(\"#epoch:{}\".format(epoch))\n",
    "    \n",
    "    return float(alpha)"
   ]
  },
  {
   "cell_type": "code",
   "execution_count": 3,
   "metadata": {},
   "outputs": [
    {
     "data": {
      "text/plain": [
       "'\\nap = argparse.ArgumentParser()\\nap.add_argument(\"-d\", \"--dataset\", required=True,\\n               help=\"path to input dataset\")\\nap.add_argument(\"-m\", \"--model\", required=True,\\n               help=\"path to output model\")\\nargs = vars(ap.parse_args())\\n'"
      ]
     },
     "execution_count": 3,
     "metadata": {},
     "output_type": "execute_result"
    }
   ],
   "source": [
    "'''\n",
    "ap = argparse.ArgumentParser()\n",
    "ap.add_argument(\"-d\", \"--dataset\", required=True,\n",
    "               help=\"path to input dataset\")\n",
    "ap.add_argument(\"-m\", \"--model\", required=True,\n",
    "               help=\"path to output model\")\n",
    "args = vars(ap.parse_args())\n",
    "'''"
   ]
  },
  {
   "cell_type": "code",
   "execution_count": 4,
   "metadata": {},
   "outputs": [
    {
     "name": "stdout",
     "output_type": "stream",
     "text": [
      "[INFO] loading images...\n",
      "[INFO] load images dnoe...\n"
     ]
    }
   ],
   "source": [
    "print(\"[INFO] loading images...\")\n",
    "#imagePaths = list(paths.list_images(args[\"dataset\"]))\n",
    "imagePaths = list(paths.list_images(\"../imgdatasets/animals3\"))\n",
    "print(\"[INFO] load images dnoe...\")"
   ]
  },
  {
   "cell_type": "code",
   "execution_count": 5,
   "metadata": {},
   "outputs": [
    {
     "name": "stdout",
     "output_type": "stream",
     "text": [
      "[INFO] images preprocessing...\n",
      "[INFO] images preprocess done\n"
     ]
    }
   ],
   "source": [
    "print(\"[INFO] images preprocessing...\")\n",
    "resize = ImgResize(32, 32)\n",
    "imgtoarray = ImgToArray()\n",
    "\n",
    "imgload = ImgLoad(preprocessors=[resize, imgtoarray])\n",
    "(data, labels) = imgload.load(imagePaths, verbose=500)\n",
    "data = data.astype(\"float\") / 255.0\n",
    "print(\"[INFO] images preprocess done\")"
   ]
  },
  {
   "cell_type": "code",
   "execution_count": 6,
   "metadata": {},
   "outputs": [
    {
     "name": "stdout",
     "output_type": "stream",
     "text": [
      "[INFO] train test dataset split\n"
     ]
    }
   ],
   "source": [
    "print(\"[INFO] train test dataset split\")\n",
    "(trainX, testX, trainY, testY) = train_test_split(data, labels,\n",
    "    test_size=0.25, random_state=42, stratify=labels)\n",
    "lb = LabelBinarizer()\n",
    "trainY = lb.fit_transform(trainY)\n",
    "testY = lb.fit_transform(testY)"
   ]
  },
  {
   "cell_type": "code",
   "execution_count": 7,
   "metadata": {},
   "outputs": [
    {
     "name": "stdout",
     "output_type": "stream",
     "text": [
      "[INFO] compiling model...\n"
     ]
    }
   ],
   "source": [
    "print(\"[INFO] compiling model...\")\n",
    "opt = SGD(lr=0.005)\n",
    "model = ShallowNet.build(width=32, height=32, depth=3, classes=3)\n",
    "model.compile(loss=\"categorical_crossentropy\", optimizer=opt,\n",
    "    metrics=[\"accuracy\"])"
   ]
  },
  {
   "cell_type": "code",
   "execution_count": 8,
   "metadata": {
    "scrolled": false
   },
   "outputs": [
    {
     "name": "stdout",
     "output_type": "stream",
     "text": [
      "[INFO] trainning network...\n",
      "#epoch:0\n",
      "Epoch 1/50\n",
      "210/210 [==============================] - 11s 50ms/step - loss: 0.9476 - accuracy: 0.5656 - val_loss: 0.9010 - val_accuracy: 0.6041 - lr: 0.0050\n",
      "#epoch:1\n",
      "Epoch 2/50\n",
      "210/210 [==============================] - 11s 55ms/step - loss: 0.8867 - accuracy: 0.6120 - val_loss: 0.8984 - val_accuracy: 0.5840 - lr: 0.0050\n",
      "#epoch:2\n",
      "Epoch 3/50\n",
      "210/210 [==============================] - 12s 56ms/step - loss: 0.8558 - accuracy: 0.6302 - val_loss: 0.8556 - val_accuracy: 0.6386 - lr: 0.0050\n",
      "#epoch:3\n",
      "Epoch 4/50\n",
      "210/210 [==============================] - 12s 55ms/step - loss: 0.8359 - accuracy: 0.6414 - val_loss: 0.8399 - val_accuracy: 0.6413 - lr: 0.0050\n",
      "#epoch:4\n",
      "Epoch 5/50\n",
      "210/210 [==============================] - 10s 48ms/step - loss: 0.8230 - accuracy: 0.6450 - val_loss: 0.8536 - val_accuracy: 0.6314 - lr: 0.0045\n",
      "#epoch:5\n",
      "Epoch 6/50\n",
      "210/210 [==============================] - 11s 52ms/step - loss: 0.8097 - accuracy: 0.6525 - val_loss: 0.8202 - val_accuracy: 0.6520 - lr: 0.0045\n",
      "#epoch:6\n",
      "Epoch 7/50\n",
      "210/210 [==============================] - 11s 52ms/step - loss: 0.7980 - accuracy: 0.6595 - val_loss: 0.8142 - val_accuracy: 0.6511 - lr: 0.0045\n",
      "#epoch:7\n",
      "Epoch 8/50\n",
      "210/210 [==============================] - 15s 73ms/step - loss: 0.7866 - accuracy: 0.6634 - val_loss: 0.8167 - val_accuracy: 0.6498 - lr: 0.0045\n",
      "#epoch:8\n",
      "Epoch 9/50\n",
      "210/210 [==============================] - 11s 50ms/step - loss: 0.7779 - accuracy: 0.6677 - val_loss: 0.8017 - val_accuracy: 0.6570 - lr: 0.0045\n",
      "#epoch:9\n",
      "Epoch 10/50\n",
      "210/210 [==============================] - 11s 52ms/step - loss: 0.7665 - accuracy: 0.6744 - val_loss: 0.8045 - val_accuracy: 0.6543 - lr: 0.0041\n",
      "#epoch:10\n",
      "Epoch 11/50\n",
      "210/210 [==============================] - 12s 59ms/step - loss: 0.7586 - accuracy: 0.6770 - val_loss: 0.7993 - val_accuracy: 0.6498 - lr: 0.0041\n",
      "#epoch:11\n",
      "Epoch 12/50\n",
      "210/210 [==============================] - 12s 58ms/step - loss: 0.7500 - accuracy: 0.6840 - val_loss: 0.7818 - val_accuracy: 0.6767 - lr: 0.0041\n",
      "#epoch:12\n",
      "Epoch 13/50\n",
      "210/210 [==============================] - 13s 61ms/step - loss: 0.7398 - accuracy: 0.6871 - val_loss: 0.7865 - val_accuracy: 0.6565 - lr: 0.0041\n",
      "#epoch:13\n",
      "Epoch 14/50\n",
      "210/210 [==============================] - 12s 59ms/step - loss: 0.7326 - accuracy: 0.6917 - val_loss: 0.7698 - val_accuracy: 0.6771 - lr: 0.0041\n",
      "#epoch:14\n",
      "Epoch 15/50\n",
      "210/210 [==============================] - 11s 53ms/step - loss: 0.7225 - accuracy: 0.6965 - val_loss: 0.7722 - val_accuracy: 0.6825 - lr: 0.0036\n",
      "#epoch:15\n",
      "Epoch 16/50\n",
      "210/210 [==============================] - 13s 62ms/step - loss: 0.7152 - accuracy: 0.7006 - val_loss: 0.7597 - val_accuracy: 0.6919 - lr: 0.0036\n",
      "#epoch:16\n",
      "Epoch 17/50\n",
      "210/210 [==============================] - 12s 59ms/step - loss: 0.7082 - accuracy: 0.7029 - val_loss: 0.7561 - val_accuracy: 0.6785 - lr: 0.0036\n",
      "#epoch:17\n",
      "Epoch 18/50\n",
      "210/210 [==============================] - 13s 63ms/step - loss: 0.6988 - accuracy: 0.7085 - val_loss: 0.7490 - val_accuracy: 0.6937 - lr: 0.0036\n",
      "#epoch:18\n",
      "Epoch 19/50\n",
      "210/210 [==============================] - 12s 57ms/step - loss: 0.6936 - accuracy: 0.7113 - val_loss: 0.7650 - val_accuracy: 0.6838 - lr: 0.0036\n",
      "#epoch:19\n",
      "Epoch 20/50\n",
      "210/210 [==============================] - 13s 61ms/step - loss: 0.6855 - accuracy: 0.7194 - val_loss: 0.7445 - val_accuracy: 0.6928 - lr: 0.0033\n",
      "#epoch:20\n",
      "Epoch 21/50\n",
      "210/210 [==============================] - 13s 63ms/step - loss: 0.6771 - accuracy: 0.7226 - val_loss: 0.7695 - val_accuracy: 0.6807 - lr: 0.0033\n",
      "#epoch:21\n",
      "Epoch 22/50\n",
      "210/210 [==============================] - 12s 58ms/step - loss: 0.6722 - accuracy: 0.7244 - val_loss: 0.7336 - val_accuracy: 0.7058 - lr: 0.0033\n",
      "#epoch:22\n",
      "Epoch 23/50\n",
      "210/210 [==============================] - 11s 52ms/step - loss: 0.6667 - accuracy: 0.7276 - val_loss: 0.7297 - val_accuracy: 0.7049 - lr: 0.0033\n",
      "#epoch:23\n",
      "Epoch 24/50\n",
      "210/210 [==============================] - 13s 62ms/step - loss: 0.6617 - accuracy: 0.7273 - val_loss: 0.7340 - val_accuracy: 0.7049 - lr: 0.0033\n",
      "#epoch:24\n",
      "Epoch 25/50\n",
      "210/210 [==============================] - 13s 60ms/step - loss: 0.6528 - accuracy: 0.7347 - val_loss: 0.7280 - val_accuracy: 0.7009 - lr: 0.0030\n",
      "#epoch:25\n",
      "Epoch 26/50\n",
      "210/210 [==============================] - 14s 66ms/step - loss: 0.6482 - accuracy: 0.7382 - val_loss: 0.7209 - val_accuracy: 0.7049 - lr: 0.0030\n",
      "#epoch:26\n",
      "Epoch 27/50\n",
      "210/210 [==============================] - 13s 60ms/step - loss: 0.6431 - accuracy: 0.7412 - val_loss: 0.7293 - val_accuracy: 0.7053 - lr: 0.0030\n",
      "#epoch:27\n",
      "Epoch 28/50\n",
      "210/210 [==============================] - 13s 60ms/step - loss: 0.6383 - accuracy: 0.7431 - val_loss: 0.7142 - val_accuracy: 0.7071 - lr: 0.0030\n",
      "#epoch:28\n",
      "Epoch 29/50\n",
      "210/210 [==============================] - 12s 58ms/step - loss: 0.6329 - accuracy: 0.7455 - val_loss: 0.7311 - val_accuracy: 0.6946 - lr: 0.0030\n",
      "#epoch:29\n",
      "Epoch 30/50\n",
      "210/210 [==============================] - 12s 59ms/step - loss: 0.6265 - accuracy: 0.7476 - val_loss: 0.7098 - val_accuracy: 0.7089 - lr: 0.0027\n",
      "#epoch:30\n",
      "Epoch 31/50\n",
      "210/210 [==============================] - 11s 50ms/step - loss: 0.6229 - accuracy: 0.7479 - val_loss: 0.7037 - val_accuracy: 0.7147 - lr: 0.0027\n",
      "#epoch:31\n",
      "Epoch 32/50\n",
      "210/210 [==============================] - 11s 52ms/step - loss: 0.6174 - accuracy: 0.7510 - val_loss: 0.7344 - val_accuracy: 0.6883 - lr: 0.0027\n",
      "#epoch:32\n",
      "Epoch 33/50\n",
      "210/210 [==============================] - 12s 56ms/step - loss: 0.6133 - accuracy: 0.7549 - val_loss: 0.7098 - val_accuracy: 0.7071 - lr: 0.0027\n",
      "#epoch:33\n",
      "Epoch 34/50\n",
      "210/210 [==============================] - 12s 59ms/step - loss: 0.6098 - accuracy: 0.7571 - val_loss: 0.7063 - val_accuracy: 0.7071 - lr: 0.0027\n",
      "#epoch:34\n",
      "Epoch 35/50\n",
      "210/210 [==============================] - 16s 74ms/step - loss: 0.6047 - accuracy: 0.7583 - val_loss: 0.7167 - val_accuracy: 0.7013 - lr: 0.0024\n",
      "#epoch:35\n",
      "Epoch 36/50\n",
      "210/210 [==============================] - 15s 71ms/step - loss: 0.6005 - accuracy: 0.7591 - val_loss: 0.6950 - val_accuracy: 0.7138 - lr: 0.0024\n",
      "#epoch:36\n",
      "Epoch 37/50\n",
      "210/210 [==============================] - 11s 54ms/step - loss: 0.5988 - accuracy: 0.7627 - val_loss: 0.7074 - val_accuracy: 0.7044 - lr: 0.0024\n",
      "#epoch:37\n",
      "Epoch 38/50\n",
      "210/210 [==============================] - 15s 73ms/step - loss: 0.5934 - accuracy: 0.7658 - val_loss: 0.6933 - val_accuracy: 0.7188 - lr: 0.0024\n",
      "#epoch:38\n",
      "Epoch 39/50\n",
      "210/210 [==============================] - 14s 65ms/step - loss: 0.5903 - accuracy: 0.7650 - val_loss: 0.6925 - val_accuracy: 0.7134 - lr: 0.0024\n",
      "#epoch:39\n",
      "Epoch 40/50\n",
      "210/210 [==============================] - 12s 57ms/step - loss: 0.5856 - accuracy: 0.7656 - val_loss: 0.7025 - val_accuracy: 0.7089 - lr: 0.0022\n",
      "#epoch:40\n",
      "Epoch 41/50\n",
      "210/210 [==============================] - 12s 55ms/step - loss: 0.5830 - accuracy: 0.7715 - val_loss: 0.6945 - val_accuracy: 0.7103 - lr: 0.0022\n",
      "#epoch:41\n",
      "Epoch 42/50\n",
      "210/210 [==============================] - 13s 62ms/step - loss: 0.5800 - accuracy: 0.7719 - val_loss: 0.7000 - val_accuracy: 0.7116 - lr: 0.0022\n",
      "#epoch:42\n",
      "Epoch 43/50\n",
      "210/210 [==============================] - 11s 51ms/step - loss: 0.5758 - accuracy: 0.7734 - val_loss: 0.6940 - val_accuracy: 0.7085 - lr: 0.0022\n",
      "#epoch:43\n",
      "Epoch 44/50\n",
      "210/210 [==============================] - 12s 56ms/step - loss: 0.5752 - accuracy: 0.7724 - val_loss: 0.6911 - val_accuracy: 0.7183 - lr: 0.0022\n",
      "#epoch:44\n",
      "Epoch 45/50\n",
      "210/210 [==============================] - 12s 56ms/step - loss: 0.5703 - accuracy: 0.7761 - val_loss: 0.6867 - val_accuracy: 0.7188 - lr: 0.0019\n",
      "#epoch:45\n",
      "Epoch 46/50\n",
      "210/210 [==============================] - 12s 59ms/step - loss: 0.5677 - accuracy: 0.7767 - val_loss: 0.6858 - val_accuracy: 0.7143 - lr: 0.0019\n",
      "#epoch:46\n",
      "Epoch 47/50\n",
      "210/210 [==============================] - 12s 57ms/step - loss: 0.5653 - accuracy: 0.7816 - val_loss: 0.6811 - val_accuracy: 0.7228 - lr: 0.0019\n",
      "#epoch:47\n",
      "Epoch 48/50\n",
      "210/210 [==============================] - 11s 54ms/step - loss: 0.5635 - accuracy: 0.7816 - val_loss: 0.6813 - val_accuracy: 0.7197 - lr: 0.0019\n",
      "#epoch:48\n",
      "Epoch 49/50\n",
      "210/210 [==============================] - 11s 52ms/step - loss: 0.5591 - accuracy: 0.7825 - val_loss: 0.6854 - val_accuracy: 0.7241 - lr: 0.0019\n"
     ]
    },
    {
     "name": "stdout",
     "output_type": "stream",
     "text": [
      "#epoch:49\n",
      "Epoch 50/50\n",
      "210/210 [==============================] - 11s 51ms/step - loss: 0.5582 - accuracy: 0.7818 - val_loss: 0.6854 - val_accuracy: 0.7219 - lr: 0.0017\n"
     ]
    }
   ],
   "source": [
    "print(\"[INFO] trainning network...\")\n",
    "callbacks = [LearningRateScheduler(lr_step_decay)]\n",
    "\n",
    "H = model.fit(trainX, trainY, validation_data=(testX, testY),\n",
    "    batch_size=32, epochs=50, callbacks=callbacks, verbose=1)"
   ]
  },
  {
   "cell_type": "code",
   "execution_count": 9,
   "metadata": {},
   "outputs": [
    {
     "name": "stdout",
     "output_type": "stream",
     "text": [
      "[INFO] serializing network...\n"
     ]
    }
   ],
   "source": [
    "print(\"[INFO] serializing network...\")\n",
    "#model.save(args[\"model\"])\n",
    "model.save(\"shallownet_animal3_weights.hdf5\")"
   ]
  },
  {
   "cell_type": "code",
   "execution_count": 10,
   "metadata": {},
   "outputs": [
    {
     "name": "stdout",
     "output_type": "stream",
     "text": [
      "[INFO] evaluating network...\n",
      "              precision    recall  f1-score   support\n",
      "\n",
      "        cane       0.72      0.91      0.80      1216\n",
      "     cavallo       0.73      0.59      0.65       656\n",
      "    elefante       0.71      0.33      0.45       361\n",
      "\n",
      "    accuracy                           0.72      2233\n",
      "   macro avg       0.72      0.61      0.64      2233\n",
      "weighted avg       0.72      0.72      0.70      2233\n",
      "\n"
     ]
    }
   ],
   "source": [
    "print(\"[INFO] evaluating network...\")\n",
    "predictions = model.predict(testX, batch_size=32)\n",
    "print(classification_report(testY.argmax(axis=1),\n",
    "    predictions.argmax(axis=1),\n",
    "    target_names=[str(x) for x in lb.classes_]))"
   ]
  },
  {
   "cell_type": "code",
   "execution_count": 11,
   "metadata": {},
   "outputs": [
    {
     "data": {
      "image/png": "[encoded data removed]",
      "text/plain": [
       "<Figure size 432x288 with 1 Axes>"
      ]
     },
     "metadata": {},
     "output_type": "display_data"
    }
   ],
   "source": [
    "plt.style.use(\"ggplot\")\n",
    "plt.figure()\n",
    "plt.plot(np.arange(0, 50), H.history[\"loss\"], label=\"train_loss\")\n",
    "plt.plot(np.arange(0, 50), H.history[\"val_loss\"], label=\"val_loss\")\n",
    "plt.plot(np.arange(0, 50), H.history[\"accuracy\"], label=\"train_accuracy\")\n",
    "plt.plot(np.arange(0, 50), H.history[\"val_accuracy\"], label=\"val_accuracy\")\n",
    "plt.title(\"Trainning Loss and Accuracy\")\n",
    "plt.xlabel(\"Epoch #\")\n",
    "plt.ylabel(\"Loss/Accuracy\")\n",
    "plt.legend()\n",
    "plt.savefig(\"./results/shallownet_animals3_trainning_result_lr_decay\")"
   ]
  },
  {
   "cell_type": "code",
   "execution_count": null,
   "metadata": {},
   "outputs": [],
   "source": []
  }
 ],
 "metadata": {
  "kernelspec": {
   "display_name": "Python [conda env:pDL] *",
   "language": "python",
   "name": "conda-env-pDL-py"
  },
  "language_info": {
   "codemirror_mode": {
    "name": "ipython",
    "version": 3
   },
   "file_extension": ".py",
   "mimetype": "text/x-python",
   "name": "python",
   "nbconvert_exporter": "python",
   "pygments_lexer": "ipython3",
   "version": "3.8.5"
  },
  "toc": {
   "base_numbering": 1,
   "nav_menu": {},
   "number_sections": true,
   "sideBar": true,
   "skip_h1_title": false,
   "title_cell": "Table of Contents",
   "title_sidebar": "Contents",
   "toc_cell": false,
   "toc_position": {},
   "toc_section_display": true,
   "toc_window_display": false
  },
  "varInspector": {
   "cols": {
    "lenName": 16,
    "lenType": 16,
    "lenVar": 40
   },
   "kernels_config": {
    "python": {
     "delete_cmd_postfix": "",
     "delete_cmd_prefix": "del ",
     "library": "var_list.py",
     "varRefreshCmd": "print(var_dic_list())"
    },
    "r": {
     "delete_cmd_postfix": ") ",
     "delete_cmd_prefix": "rm(",
     "library": "var_list.r",
     "varRefreshCmd": "cat(var_dic_list()) "
    }
   },
   "types_to_exclude": [
    "module",
    "function",
    "builtin_function_or_method",
    "instance",
    "_Feature"
   ],
   "window_display": false
  }
 },
 "nbformat": 4,
 "nbformat_minor": 4
}
