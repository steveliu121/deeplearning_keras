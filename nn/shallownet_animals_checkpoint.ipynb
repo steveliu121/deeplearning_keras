{
 "cells": [
  {
   "cell_type": "markdown",
   "metadata": {},
   "source": [
    "# 训练过程中保存最优模型\n",
    "可以依据训练集或者验证集的loss或者accuracy来确定模型的优劣。\n",
    "以验证集的loss为例：\n",
    "+ 可以在每次loss减小时保存模型，这样会得到一系列模型文件\n",
    "+ 也可以写覆盖上一次的模型文件，最终只得到一个最优的模型文件"
   ]
  },
  {
   "cell_type": "code",
   "execution_count": 1,
   "metadata": {},
   "outputs": [],
   "source": [
    "import sys\n",
    "import os\n",
    "sys.path.append(os.path.abspath(os.path.join(os.getcwd(), \"..\")))\n",
    "\n",
    "from sklearn.preprocessing import LabelBinarizer\n",
    "from sklearn.model_selection import train_test_split\n",
    "from sklearn.metrics import classification_report\n",
    "from imgpreprocess.imgtoarray import ImgToArray\n",
    "from imgpreprocess.imgresize import ImgResize\n",
    "from imgdatasets.imgload import ImgLoad\n",
    "from nn.conv.shallownet import ShallowNet\n",
    "from keras.optimizers import SGD\n",
    "from imutils import paths\n",
    "import matplotlib.pyplot as plt\n",
    "import numpy as np\n",
    "import argparse\n",
    "\n",
    "from keras.callbacks import ModelCheckpoint"
   ]
  },
  {
   "cell_type": "code",
   "execution_count": 2,
   "metadata": {},
   "outputs": [
    {
     "data": {
      "text/plain": [
       "'\\nap = argparse.ArgumentParser()\\nap.add_argument(\"-d\", \"--dataset\", required=True,\\n               help=\"path to input dataset\")\\nap.add_argument(\"-m\", \"--model\", required=True,\\n               help=\"path to output model\")\\nargs = vars(ap.parse_args())\\n'"
      ]
     },
     "execution_count": 2,
     "metadata": {},
     "output_type": "execute_result"
    }
   ],
   "source": [
    "'''\n",
    "ap = argparse.ArgumentParser()\n",
    "ap.add_argument(\"-d\", \"--dataset\", required=True,\n",
    "               help=\"path to input dataset\")\n",
    "ap.add_argument(\"-m\", \"--model\", required=True,\n",
    "               help=\"path to output model\")\n",
    "args = vars(ap.parse_args())\n",
    "'''"
   ]
  },
  {
   "cell_type": "code",
   "execution_count": 3,
   "metadata": {},
   "outputs": [
    {
     "name": "stdout",
     "output_type": "stream",
     "text": [
      "[INFO] loading images...\n",
      "[INFO] load images dnoe...\n"
     ]
    }
   ],
   "source": [
    "print(\"[INFO] loading images...\")\n",
    "#imagePaths = list(paths.list_images(args[\"dataset\"]))\n",
    "imagePaths = list(paths.list_images(\"../imgdatasets/animals3\"))\n",
    "print(\"[INFO] load images dnoe...\")"
   ]
  },
  {
   "cell_type": "code",
   "execution_count": 4,
   "metadata": {},
   "outputs": [
    {
     "name": "stdout",
     "output_type": "stream",
     "text": [
      "[INFO] images preprocessing...\n",
      "[INFO] images preprocess done\n"
     ]
    }
   ],
   "source": [
    "print(\"[INFO] images preprocessing...\")\n",
    "resize = ImgResize(32, 32)\n",
    "imgtoarray = ImgToArray()\n",
    "\n",
    "imgload = ImgLoad(preprocessors=[resize, imgtoarray])\n",
    "(data, labels) = imgload.load(imagePaths, verbose=500)\n",
    "data = data.astype(\"float\") / 255.0\n",
    "print(\"[INFO] images preprocess done\")"
   ]
  },
  {
   "cell_type": "code",
   "execution_count": 5,
   "metadata": {},
   "outputs": [
    {
     "name": "stdout",
     "output_type": "stream",
     "text": [
      "[INFO] train test dataset split\n"
     ]
    }
   ],
   "source": [
    "print(\"[INFO] train test dataset split\")\n",
    "(trainX, testX, trainY, testY) = train_test_split(data, labels,\n",
    "    test_size=0.25, random_state=42, stratify=labels)\n",
    "lb = LabelBinarizer()\n",
    "trainY = lb.fit_transform(trainY)\n",
    "testY = lb.fit_transform(testY)"
   ]
  },
  {
   "cell_type": "code",
   "execution_count": 6,
   "metadata": {},
   "outputs": [
    {
     "name": "stdout",
     "output_type": "stream",
     "text": [
      "[INFO] compiling model...\n"
     ]
    }
   ],
   "source": [
    "print(\"[INFO] compiling model...\")\n",
    "opt = SGD(lr=0.005)\n",
    "model = ShallowNet.build(width=32, height=32, depth=3, classes=3)\n",
    "model.compile(loss=\"categorical_crossentropy\", optimizer=opt,\n",
    "    metrics=[\"accuracy\"])"
   ]
  },
  {
   "cell_type": "code",
   "execution_count": 7,
   "metadata": {},
   "outputs": [],
   "source": [
    "'''\n",
    "fileName = os.path.sep.join([\"./weights/\", \"weights-{epoch:03d}-{val_loss:.4f}.hdf5\"])\n",
    "checkpoint = ModelCheckpoint(fileName, monitor=\"val_loss\", mode=\"min\",\n",
    "                           save_best_only=True, verbose=1)\n",
    "'''\n",
    "checkpoint = ModelCheckpoint(\"./weights/weights-checkpoint.hdf5\", monitor=\"val_loss\", mode=\"min\",\n",
    "                           save_best_only=True, verbose=1)\n",
    "callbacks = [checkpoint]"
   ]
  },
  {
   "cell_type": "code",
   "execution_count": 8,
   "metadata": {},
   "outputs": [
    {
     "name": "stdout",
     "output_type": "stream",
     "text": [
      "[INFO] trainning network...\n",
      "Epoch 1/50\n",
      "\n",
      "Epoch 00001: val_loss improved from inf to 0.89327, saving model to ./weights/weights-checkpoint.hdf5\n",
      "210/210 - 13s - loss: 0.9403 - accuracy: 0.5765 - val_loss: 0.8933 - val_accuracy: 0.5849\n",
      "Epoch 2/50\n",
      "\n",
      "Epoch 00002: val_loss improved from 0.89327 to 0.87529, saving model to ./weights/weights-checkpoint.hdf5\n",
      "210/210 - 11s - loss: 0.8862 - accuracy: 0.6110 - val_loss: 0.8753 - val_accuracy: 0.6005\n",
      "Epoch 3/50\n",
      "\n",
      "Epoch 00003: val_loss improved from 0.87529 to 0.85188, saving model to ./weights/weights-checkpoint.hdf5\n",
      "210/210 - 11s - loss: 0.8553 - accuracy: 0.6282 - val_loss: 0.8519 - val_accuracy: 0.6368\n",
      "Epoch 4/50\n",
      "\n",
      "Epoch 00004: val_loss improved from 0.85188 to 0.84044, saving model to ./weights/weights-checkpoint.hdf5\n",
      "210/210 - 11s - loss: 0.8362 - accuracy: 0.6408 - val_loss: 0.8404 - val_accuracy: 0.6296\n",
      "Epoch 5/50\n",
      "\n",
      "Epoch 00005: val_loss did not improve from 0.84044\n",
      "210/210 - 11s - loss: 0.8222 - accuracy: 0.6462 - val_loss: 0.8529 - val_accuracy: 0.6355\n",
      "Epoch 6/50\n",
      "\n",
      "Epoch 00006: val_loss improved from 0.84044 to 0.82349, saving model to ./weights/weights-checkpoint.hdf5\n",
      "210/210 - 13s - loss: 0.8128 - accuracy: 0.6522 - val_loss: 0.8235 - val_accuracy: 0.6498\n",
      "Epoch 7/50\n",
      "\n",
      "Epoch 00007: val_loss improved from 0.82349 to 0.81320, saving model to ./weights/weights-checkpoint.hdf5\n",
      "210/210 - 11s - loss: 0.8007 - accuracy: 0.6550 - val_loss: 0.8132 - val_accuracy: 0.6552\n",
      "Epoch 8/50\n",
      "\n",
      "Epoch 00008: val_loss improved from 0.81320 to 0.81153, saving model to ./weights/weights-checkpoint.hdf5\n",
      "210/210 - 10s - loss: 0.7913 - accuracy: 0.6616 - val_loss: 0.8115 - val_accuracy: 0.6547\n",
      "Epoch 9/50\n",
      "\n",
      "Epoch 00009: val_loss did not improve from 0.81153\n",
      "210/210 - 8s - loss: 0.7778 - accuracy: 0.6662 - val_loss: 0.8241 - val_accuracy: 0.6399\n",
      "Epoch 10/50\n",
      "\n",
      "Epoch 00010: val_loss improved from 0.81153 to 0.80339, saving model to ./weights/weights-checkpoint.hdf5\n",
      "210/210 - 10s - loss: 0.7707 - accuracy: 0.6700 - val_loss: 0.8034 - val_accuracy: 0.6655\n",
      "Epoch 11/50\n",
      "\n",
      "Epoch 00011: val_loss improved from 0.80339 to 0.78508, saving model to ./weights/weights-checkpoint.hdf5\n",
      "210/210 - 11s - loss: 0.7613 - accuracy: 0.6773 - val_loss: 0.7851 - val_accuracy: 0.6695\n",
      "Epoch 12/50\n",
      "\n",
      "Epoch 00012: val_loss improved from 0.78508 to 0.77779, saving model to ./weights/weights-checkpoint.hdf5\n",
      "210/210 - 8s - loss: 0.7487 - accuracy: 0.6825 - val_loss: 0.7778 - val_accuracy: 0.6686\n",
      "Epoch 13/50\n",
      "\n",
      "Epoch 00013: val_loss improved from 0.77779 to 0.77628, saving model to ./weights/weights-checkpoint.hdf5\n",
      "210/210 - 9s - loss: 0.7408 - accuracy: 0.6822 - val_loss: 0.7763 - val_accuracy: 0.6726\n",
      "Epoch 14/50\n",
      "\n",
      "Epoch 00014: val_loss improved from 0.77628 to 0.77486, saving model to ./weights/weights-checkpoint.hdf5\n",
      "210/210 - 9s - loss: 0.7279 - accuracy: 0.6934 - val_loss: 0.7749 - val_accuracy: 0.6610\n",
      "Epoch 15/50\n",
      "\n",
      "Epoch 00015: val_loss improved from 0.77486 to 0.76500, saving model to ./weights/weights-checkpoint.hdf5\n",
      "210/210 - 9s - loss: 0.7203 - accuracy: 0.6959 - val_loss: 0.7650 - val_accuracy: 0.6704\n",
      "Epoch 16/50\n",
      "\n",
      "Epoch 00016: val_loss improved from 0.76500 to 0.75160, saving model to ./weights/weights-checkpoint.hdf5\n",
      "210/210 - 8s - loss: 0.7106 - accuracy: 0.7007 - val_loss: 0.7516 - val_accuracy: 0.6852\n",
      "Epoch 17/50\n",
      "\n",
      "Epoch 00017: val_loss did not improve from 0.75160\n",
      "210/210 - 12s - loss: 0.7001 - accuracy: 0.7086 - val_loss: 0.7599 - val_accuracy: 0.6838\n",
      "Epoch 18/50\n",
      "\n",
      "Epoch 00018: val_loss improved from 0.75160 to 0.75032, saving model to ./weights/weights-checkpoint.hdf5\n",
      "210/210 - 10s - loss: 0.6915 - accuracy: 0.7122 - val_loss: 0.7503 - val_accuracy: 0.6923\n",
      "Epoch 19/50\n",
      "\n",
      "Epoch 00019: val_loss did not improve from 0.75032\n",
      "210/210 - 9s - loss: 0.6817 - accuracy: 0.7171 - val_loss: 0.8075 - val_accuracy: 0.6511\n",
      "Epoch 20/50\n",
      "\n",
      "Epoch 00020: val_loss improved from 0.75032 to 0.74399, saving model to ./weights/weights-checkpoint.hdf5\n",
      "210/210 - 9s - loss: 0.6736 - accuracy: 0.7229 - val_loss: 0.7440 - val_accuracy: 0.6883\n",
      "Epoch 21/50\n",
      "\n",
      "Epoch 00021: val_loss improved from 0.74399 to 0.74236, saving model to ./weights/weights-checkpoint.hdf5\n",
      "210/210 - 10s - loss: 0.6655 - accuracy: 0.7265 - val_loss: 0.7424 - val_accuracy: 0.6892\n",
      "Epoch 22/50\n",
      "\n",
      "Epoch 00022: val_loss improved from 0.74236 to 0.71572, saving model to ./weights/weights-checkpoint.hdf5\n",
      "210/210 - 9s - loss: 0.6565 - accuracy: 0.7313 - val_loss: 0.7157 - val_accuracy: 0.7085\n",
      "Epoch 23/50\n",
      "\n",
      "Epoch 00023: val_loss improved from 0.71572 to 0.71172, saving model to ./weights/weights-checkpoint.hdf5\n",
      "210/210 - 8s - loss: 0.6483 - accuracy: 0.7365 - val_loss: 0.7117 - val_accuracy: 0.7076\n",
      "Epoch 24/50\n",
      "\n",
      "Epoch 00024: val_loss did not improve from 0.71172\n",
      "210/210 - 6s - loss: 0.6376 - accuracy: 0.7407 - val_loss: 0.7337 - val_accuracy: 0.6941\n",
      "Epoch 25/50\n",
      "\n",
      "Epoch 00025: val_loss did not improve from 0.71172\n",
      "210/210 - 8s - loss: 0.6300 - accuracy: 0.7480 - val_loss: 0.7154 - val_accuracy: 0.6955\n",
      "Epoch 26/50\n",
      "\n",
      "Epoch 00026: val_loss improved from 0.71172 to 0.70752, saving model to ./weights/weights-checkpoint.hdf5\n",
      "210/210 - 10s - loss: 0.6226 - accuracy: 0.7471 - val_loss: 0.7075 - val_accuracy: 0.7044\n",
      "Epoch 27/50\n",
      "\n",
      "Epoch 00027: val_loss improved from 0.70752 to 0.69275, saving model to ./weights/weights-checkpoint.hdf5\n",
      "210/210 - 10s - loss: 0.6158 - accuracy: 0.7525 - val_loss: 0.6927 - val_accuracy: 0.7219\n",
      "Epoch 28/50\n",
      "\n",
      "Epoch 00028: val_loss did not improve from 0.69275\n",
      "210/210 - 9s - loss: 0.6065 - accuracy: 0.7604 - val_loss: 0.6936 - val_accuracy: 0.7192\n",
      "Epoch 29/50\n",
      "\n",
      "Epoch 00029: val_loss did not improve from 0.69275\n",
      "210/210 - 11s - loss: 0.6024 - accuracy: 0.7582 - val_loss: 0.7217 - val_accuracy: 0.6950\n",
      "Epoch 30/50\n",
      "\n",
      "Epoch 00030: val_loss did not improve from 0.69275\n",
      "210/210 - 9s - loss: 0.5959 - accuracy: 0.7615 - val_loss: 0.7466 - val_accuracy: 0.6682\n",
      "Epoch 31/50\n",
      "\n",
      "Epoch 00031: val_loss improved from 0.69275 to 0.67888, saving model to ./weights/weights-checkpoint.hdf5\n",
      "210/210 - 8s - loss: 0.5881 - accuracy: 0.7664 - val_loss: 0.6789 - val_accuracy: 0.7210\n",
      "Epoch 32/50\n",
      "\n",
      "Epoch 00032: val_loss did not improve from 0.67888\n",
      "210/210 - 10s - loss: 0.5812 - accuracy: 0.7728 - val_loss: 0.7081 - val_accuracy: 0.6919\n",
      "Epoch 33/50\n",
      "\n",
      "Epoch 00033: val_loss did not improve from 0.67888\n",
      "210/210 - 9s - loss: 0.5747 - accuracy: 0.7730 - val_loss: 0.7389 - val_accuracy: 0.6973\n",
      "Epoch 34/50\n",
      "\n",
      "Epoch 00034: val_loss did not improve from 0.67888\n",
      "210/210 - 11s - loss: 0.5711 - accuracy: 0.7737 - val_loss: 0.7366 - val_accuracy: 0.7017\n",
      "Epoch 35/50\n",
      "\n",
      "Epoch 00035: val_loss did not improve from 0.67888\n",
      "210/210 - 9s - loss: 0.5616 - accuracy: 0.7806 - val_loss: 0.7040 - val_accuracy: 0.7147\n",
      "Epoch 36/50\n",
      "\n",
      "Epoch 00036: val_loss did not improve from 0.67888\n",
      "210/210 - 10s - loss: 0.5549 - accuracy: 0.7825 - val_loss: 0.6853 - val_accuracy: 0.7188\n",
      "Epoch 37/50\n",
      "\n",
      "Epoch 00037: val_loss did not improve from 0.67888\n",
      "210/210 - 10s - loss: 0.5504 - accuracy: 0.7809 - val_loss: 0.6989 - val_accuracy: 0.7183\n",
      "Epoch 38/50\n",
      "\n",
      "Epoch 00038: val_loss did not improve from 0.67888\n",
      "210/210 - 11s - loss: 0.5464 - accuracy: 0.7877 - val_loss: 0.7806 - val_accuracy: 0.6507\n",
      "Epoch 39/50\n",
      "\n",
      "Epoch 00039: val_loss improved from 0.67888 to 0.67779, saving model to ./weights/weights-checkpoint.hdf5\n",
      "210/210 - 11s - loss: 0.5409 - accuracy: 0.7959 - val_loss: 0.6778 - val_accuracy: 0.7170\n",
      "Epoch 40/50\n",
      "\n",
      "Epoch 00040: val_loss did not improve from 0.67779\n",
      "210/210 - 14s - loss: 0.5335 - accuracy: 0.7930 - val_loss: 0.7065 - val_accuracy: 0.7215\n",
      "Epoch 41/50\n",
      "\n",
      "Epoch 00041: val_loss did not improve from 0.67779\n",
      "210/210 - 12s - loss: 0.5315 - accuracy: 0.7964 - val_loss: 0.7140 - val_accuracy: 0.6883\n",
      "Epoch 42/50\n",
      "\n",
      "Epoch 00042: val_loss did not improve from 0.67779\n",
      "210/210 - 10s - loss: 0.5275 - accuracy: 0.7955 - val_loss: 0.6828 - val_accuracy: 0.7129\n",
      "Epoch 43/50\n",
      "\n",
      "Epoch 00043: val_loss did not improve from 0.67779\n",
      "210/210 - 11s - loss: 0.5215 - accuracy: 0.7943 - val_loss: 0.7460 - val_accuracy: 0.6753\n",
      "Epoch 44/50\n",
      "\n",
      "Epoch 00044: val_loss improved from 0.67779 to 0.67271, saving model to ./weights/weights-checkpoint.hdf5\n",
      "210/210 - 8s - loss: 0.5157 - accuracy: 0.8022 - val_loss: 0.6727 - val_accuracy: 0.7353\n",
      "Epoch 45/50\n",
      "\n",
      "Epoch 00045: val_loss did not improve from 0.67271\n",
      "210/210 - 9s - loss: 0.5135 - accuracy: 0.8053 - val_loss: 0.7140 - val_accuracy: 0.6914\n"
     ]
    },
    {
     "name": "stdout",
     "output_type": "stream",
     "text": [
      "Epoch 46/50\n",
      "\n",
      "Epoch 00046: val_loss did not improve from 0.67271\n",
      "210/210 - 10s - loss: 0.5057 - accuracy: 0.8018 - val_loss: 0.7975 - val_accuracy: 0.6462\n",
      "Epoch 47/50\n",
      "\n",
      "Epoch 00047: val_loss improved from 0.67271 to 0.66018, saving model to ./weights/weights-checkpoint.hdf5\n",
      "210/210 - 8s - loss: 0.5020 - accuracy: 0.8059 - val_loss: 0.6602 - val_accuracy: 0.7340\n",
      "Epoch 48/50\n",
      "\n",
      "Epoch 00048: val_loss did not improve from 0.66018\n",
      "210/210 - 12s - loss: 0.4983 - accuracy: 0.8089 - val_loss: 0.6660 - val_accuracy: 0.7304\n",
      "Epoch 49/50\n",
      "\n",
      "Epoch 00049: val_loss did not improve from 0.66018\n",
      "210/210 - 11s - loss: 0.4996 - accuracy: 0.8052 - val_loss: 0.6772 - val_accuracy: 0.7331\n",
      "Epoch 50/50\n",
      "\n",
      "Epoch 00050: val_loss did not improve from 0.66018\n",
      "210/210 - 12s - loss: 0.4924 - accuracy: 0.8131 - val_loss: 0.6847 - val_accuracy: 0.7232\n"
     ]
    }
   ],
   "source": [
    "print(\"[INFO] trainning network...\")\n",
    "H = model.fit(trainX, trainY, validation_data=(testX, testY),\n",
    "    batch_size=32, epochs=50, callbacks=callbacks, verbose=2)"
   ]
  },
  {
   "cell_type": "code",
   "execution_count": 9,
   "metadata": {},
   "outputs": [
    {
     "name": "stdout",
     "output_type": "stream",
     "text": [
      "[INFO] serializing network...\n"
     ]
    }
   ],
   "source": [
    "print(\"[INFO] serializing network...\")\n",
    "#model.save(args[\"model\"])\n",
    "model.save(\"shallownet_animal3_weights.hdf5\")"
   ]
  },
  {
   "cell_type": "code",
   "execution_count": 10,
   "metadata": {},
   "outputs": [
    {
     "name": "stdout",
     "output_type": "stream",
     "text": [
      "[INFO] evaluating network...\n",
      "              precision    recall  f1-score   support\n",
      "\n",
      "        cane       0.75      0.88      0.81      1216\n",
      "     cavallo       0.79      0.52      0.63       656\n",
      "    elefante       0.54      0.57      0.55       361\n",
      "\n",
      "    accuracy                           0.72      2233\n",
      "   macro avg       0.69      0.66      0.66      2233\n",
      "weighted avg       0.73      0.72      0.72      2233\n",
      "\n"
     ]
    }
   ],
   "source": [
    "print(\"[INFO] evaluating network...\")\n",
    "predictions = model.predict(testX, batch_size=32)\n",
    "print(classification_report(testY.argmax(axis=1),\n",
    "    predictions.argmax(axis=1),\n",
    "    target_names=[str(x) for x in lb.classes_]))"
   ]
  },
  {
   "cell_type": "code",
   "execution_count": 11,
   "metadata": {},
   "outputs": [
    {
     "data": {
      "image/png": "[encoded data removed]",
      "text/plain": [
       "<Figure size 432x288 with 1 Axes>"
      ]
     },
     "metadata": {},
     "output_type": "display_data"
    }
   ],
   "source": [
    "plt.style.use(\"ggplot\")\n",
    "plt.figure()\n",
    "plt.plot(np.arange(0, 50), H.history[\"loss\"], label=\"train_loss\")\n",
    "plt.plot(np.arange(0, 50), H.history[\"val_loss\"], label=\"val_loss\")\n",
    "plt.plot(np.arange(0, 50), H.history[\"accuracy\"], label=\"train_accuracy\")\n",
    "plt.plot(np.arange(0, 50), H.history[\"val_accuracy\"], label=\"val_accuracy\")\n",
    "plt.title(\"Trainning Loss and Accuracy\")\n",
    "plt.xlabel(\"Epoch #\")\n",
    "plt.ylabel(\"Loss/Accuracy\")\n",
    "plt.legend()\n",
    "plt.savefig(\"./results/shallownet_animals3_trainning_result\")"
   ]
  },
  {
   "cell_type": "code",
   "execution_count": null,
   "metadata": {},
   "outputs": [],
   "source": []
  }
 ],
 "metadata": {
  "kernelspec": {
   "display_name": "Python [conda env:pDL] *",
   "language": "python",
   "name": "conda-env-pDL-py"
  },
  "language_info": {
   "codemirror_mode": {
    "name": "ipython",
    "version": 3
   },
   "file_extension": ".py",
   "mimetype": "text/x-python",
   "name": "python",
   "nbconvert_exporter": "python",
   "pygments_lexer": "ipython3",
   "version": "3.8.5"
  },
  "toc": {
   "base_numbering": 1,
   "nav_menu": {},
   "number_sections": true,
   "sideBar": true,
   "skip_h1_title": false,
   "title_cell": "Table of Contents",
   "title_sidebar": "Contents",
   "toc_cell": false,
   "toc_position": {},
   "toc_section_display": true,
   "toc_window_display": false
  },
  "varInspector": {
   "cols": {
    "lenName": 16,
    "lenType": 16,
    "lenVar": 40
   },
   "kernels_config": {
    "python": {
     "delete_cmd_postfix": "",
     "delete_cmd_prefix": "del ",
     "library": "var_list.py",
     "varRefreshCmd": "print(var_dic_list())"
    },
    "r": {
     "delete_cmd_postfix": ") ",
     "delete_cmd_prefix": "rm(",
     "library": "var_list.r",
     "varRefreshCmd": "cat(var_dic_list()) "
    }
   },
   "types_to_exclude": [
    "module",
    "function",
    "builtin_function_or_method",
    "instance",
    "_Feature"
   ],
   "window_display": false
  }
 },
 "nbformat": 4,
 "nbformat_minor": 4
}
