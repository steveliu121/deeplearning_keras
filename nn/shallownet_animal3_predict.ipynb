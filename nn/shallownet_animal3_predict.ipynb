{
 "cells": [
  {
   "cell_type": "markdown",
   "metadata": {},
   "source": [
    "# 加载模型，对图片进行预测\n",
    "从disk中加载已经训练好的模型，对输入图片进行分类预测"
   ]
  },
  {
   "cell_type": "code",
   "execution_count": null,
   "metadata": {},
   "outputs": [],
   "source": [
    "import sys\n",
    "import os\n",
    "sys.path.append(os.path.abspath(os.path.join(os.getcwd(), \"..\")))\n",
    "\n",
    "from imgpreprocess.imgtoarray import ImgToArray\n",
    "from imgpreprocess.imgresize import ImgResize\n",
    "from imgdatasets.imgload import ImgLoad\n",
    "from keras.models import load_model\n",
    "\n",
    "import numpy as np\n",
    "from imutils import paths\n",
    "import argparse\n",
    "import cv2"
   ]
  },
  {
   "cell_type": "code",
   "execution_count": null,
   "metadata": {},
   "outputs": [],
   "source": [
    "'''\n",
    "ap = argparse.ArgumentParser()\n",
    "ap.add_argument(\"-d\", \"--dataset\", required=True,\n",
    "               help=\"path to input dataset\")\n",
    "ap.add_argument(\"-m\", \"--model\", required=True,\n",
    "               help=\"path to pre-trained model\")\n",
    "args = vars(ap.parse_args())\n",
    "'''"
   ]
  },
  {
   "cell_type": "code",
   "execution_count": null,
   "metadata": {},
   "outputs": [],
   "source": [
    "classLabels = [\"dog\", \"horse\", \"elephant\"]"
   ]
  },
  {
   "cell_type": "code",
   "execution_count": null,
   "metadata": {},
   "outputs": [],
   "source": [
    "print(\"INFO sampling images...\")\n",
    "#imagePaths = np.array(list(paths.list_images(args[\"dataset\"])))\n",
    "'''\n",
    "imagePaths = np.array(list(paths.list_images(\"../imgdatasets/animals3\")))\n",
    "idxs = np.random.randint(0, len(imagePaths), size=(10,))\n",
    "imagePaths = imagePaths[idxs]\n",
    "'''\n",
    "imagePaths = np.array(list(paths.list_images(\"./predict_dataset/animals3\")))"
   ]
  },
  {
   "cell_type": "code",
   "execution_count": null,
   "metadata": {},
   "outputs": [],
   "source": [
    "print(\"[INFO] image preprocess...\")\n",
    "imgresize = ImgResize(32, 32)\n",
    "imgtoarray = ImgToArray()\n",
    "\n",
    "imgload = ImgLoad(preprocessors=[imgresize, imgtoarray])\n",
    "(data, labels) = imgload.load(imagePaths)\n",
    "data = data.astype(\"float\") / 255.0"
   ]
  },
  {
   "cell_type": "code",
   "execution_count": null,
   "metadata": {},
   "outputs": [],
   "source": [
    "print(\"[INFO] load pre-trained network...\")\n",
    "#model = load_model(args[\"model\"])\n",
    "model = load_model(\"./shallownet_animal3_weights.hdf5\")"
   ]
  },
  {
   "cell_type": "code",
   "execution_count": null,
   "metadata": {},
   "outputs": [],
   "source": [
    "print(\"[INFO] predicting...\")\n",
    "preds = model.predict(data, batch_size=32).argmax(axis=1)"
   ]
  },
  {
   "cell_type": "code",
   "execution_count": null,
   "metadata": {},
   "outputs": [],
   "source": [
    "for (i, imagePath) in enumerate(imagePaths):\n",
    "    image = cv2.imread(imagePath)\n",
    "    cv2.putText(image, \"Label: {}\".format(classLabels[preds[i]]),\n",
    "        (10, 30), cv2.FONT_HERSHEY_SIMPLEX, 0.7, (255, 255, 255), 2)\n",
    "    cv2.imshow(\"Image\", image)\n",
    "    cv2.waitKey(0)\n",
    "    cv2.destroyAllWindows()"
   ]
  }
 ],
 "metadata": {
  "kernelspec": {
   "display_name": "Python [conda env:pDL] *",
   "language": "python",
   "name": "conda-env-pDL-py"
  },
  "language_info": {
   "codemirror_mode": {
    "name": "ipython",
    "version": 3
   },
   "file_extension": ".py",
   "mimetype": "text/x-python",
   "name": "python",
   "nbconvert_exporter": "python",
   "pygments_lexer": "ipython3",
   "version": "3.8.5"
  }
 },
 "nbformat": 4,
 "nbformat_minor": 4
}
