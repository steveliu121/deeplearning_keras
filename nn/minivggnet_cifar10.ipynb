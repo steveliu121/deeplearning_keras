{
 "cells": [
  {
   "cell_type": "markdown",
   "metadata": {},
   "source": [
    "# MiniVGGNet\n",
    "基于CIFAR-10数据集的一个MiniVGGNet网络训练\n",
    "## 网络结构:\n",
    "[CONV-->RELU-->BN-->CON-->RELU-->BN-->POOL-->DO(dropout)]-->[CONV-->RELU-->BN-->CON-->RELU-->BN-->POOL-->DO]-->[FC-->RELU-->BN-->DO-->FC-->SOFTMAX]"
   ]
  },
  {
   "cell_type": "code",
   "execution_count": 1,
   "metadata": {},
   "outputs": [],
   "source": [
    "import sys\n",
    "import os\n",
    "sys.path.append(os.path.abspath(os.path.join(os.getcwd(), \"..\")))\n",
    "\n",
    "from sklearn.preprocessing import LabelBinarizer\n",
    "from sklearn.metrics import classification_report\n",
    "from nn.conv.minivggnet import MiniVGGNet\n",
    "from keras.optimizers import SGD\n",
    "from keras.datasets import cifar10\n",
    "import matplotlib.pyplot as plt\n",
    "import numpy as np\n",
    "import argparse"
   ]
  },
  {
   "cell_type": "code",
   "execution_count": 2,
   "metadata": {},
   "outputs": [
    {
     "data": {
      "text/plain": [
       "'\\nap = argparse.ArgumentParser()\\nap.add_argument(\"-o\", \"--output\", required=True,\\n               help=\"path to the output loss/accuracy plot\")\\nargs = vars(ap.parse_args())\\n'"
      ]
     },
     "execution_count": 2,
     "metadata": {},
     "output_type": "execute_result"
    }
   ],
   "source": [
    "'''\n",
    "ap = argparse.ArgumentParser()\n",
    "ap.add_argument(\"-o\", \"--output\", required=True,\n",
    "               help=\"path to the output loss/accuracy plot\")\n",
    "args = vars(ap.parse_args())\n",
    "'''"
   ]
  },
  {
   "cell_type": "code",
   "execution_count": 3,
   "metadata": {},
   "outputs": [],
   "source": [
    "from tensorflow.compat.v1 import ConfigProto\n",
    "from tensorflow.compat.v1 import InteractiveSession\n",
    "\n",
    "config = ConfigProto()\n",
    "config.gpu_options.allow_growth = True\n",
    "session = InteractiveSession(config=config)"
   ]
  },
  {
   "cell_type": "code",
   "execution_count": 4,
   "metadata": {},
   "outputs": [
    {
     "name": "stdout",
     "output_type": "stream",
     "text": [
      "[INFO] loading CIFAR-10 data...\n",
      "[INFO] load CIFAR-10 done\n"
     ]
    }
   ],
   "source": [
    "print(\"[INFO] loading CIFAR-10 data...\")\n",
    "((trainX, trainY), (testX, testY)) = cifar10.load_data()\n",
    "\n",
    "trainX = trainX.astype(\"float\") / 255.0\n",
    "testX = testX.astype(\"float\") / 255.0\n",
    "trainY = trainY.astype(\"int\")\n",
    "testY = testY.astype(\"int\")\n",
    "\n",
    "lb = LabelBinarizer()\n",
    "trainY = lb.fit_transform(trainY)\n",
    "testY = lb.fit_transform(testY)\n",
    "\n",
    "lableNames = [\n",
    "    \"airplane\", \"automobile\", \"bird\", \"cat\", \"deer\", \"dog\", \"frog\", \"horse\",\n",
    "    \"ship\", \"truck\"\n",
    "]\n",
    "print(\"[INFO] load CIFAR-10 done\")"
   ]
  },
  {
   "cell_type": "code",
   "execution_count": 5,
   "metadata": {},
   "outputs": [
    {
     "name": "stdout",
     "output_type": "stream",
     "text": [
      "[INFO] compiling model...\n"
     ]
    }
   ],
   "source": [
    "print(\"[INFO] compiling model...\")\n",
    "opt = SGD(lr=0.01, decay=0.01 / 40, momentum=0.9, nesterov=True)\n",
    "model = MiniVGGNet.build(width=32, height=32, depth=3, classes=10)\n",
    "model.compile(loss=\"categorical_crossentropy\",\n",
    "              optimizer=opt,\n",
    "              metrics=[\"accuracy\"])"
   ]
  },
  {
   "cell_type": "code",
   "execution_count": 6,
   "metadata": {
    "scrolled": false
   },
   "outputs": [
    {
     "name": "stdout",
     "output_type": "stream",
     "text": [
      "[INFO] training network...\n",
      "Epoch 1/40\n",
      "782/782 [==============================] - 26s 33ms/step - loss: 1.6011 - accuracy: 0.4659 - val_loss: 1.2379 - val_accuracy: 0.5758\n",
      "Epoch 2/40\n",
      "782/782 [==============================] - 8s 10ms/step - loss: 1.1325 - accuracy: 0.6074 - val_loss: 0.9925 - val_accuracy: 0.6457\n",
      "Epoch 3/40\n",
      "782/782 [==============================] - 8s 10ms/step - loss: 0.9708 - accuracy: 0.6595 - val_loss: 0.8147 - val_accuracy: 0.7125\n",
      "Epoch 4/40\n",
      "782/782 [==============================] - 8s 10ms/step - loss: 0.8606 - accuracy: 0.6995 - val_loss: 0.7732 - val_accuracy: 0.7306\n",
      "Epoch 5/40\n",
      "782/782 [==============================] - 8s 10ms/step - loss: 0.7960 - accuracy: 0.7191 - val_loss: 0.7182 - val_accuracy: 0.7495\n",
      "Epoch 6/40\n",
      "782/782 [==============================] - 8s 10ms/step - loss: 0.7355 - accuracy: 0.7413 - val_loss: 0.7175 - val_accuracy: 0.7489\n",
      "Epoch 7/40\n",
      "782/782 [==============================] - 8s 10ms/step - loss: 0.6886 - accuracy: 0.7550 - val_loss: 0.6735 - val_accuracy: 0.7688\n",
      "Epoch 8/40\n",
      "782/782 [==============================] - 8s 10ms/step - loss: 0.6505 - accuracy: 0.7711 - val_loss: 0.6850 - val_accuracy: 0.7639\n",
      "Epoch 9/40\n",
      "782/782 [==============================] - 8s 10ms/step - loss: 0.6207 - accuracy: 0.7796 - val_loss: 0.6386 - val_accuracy: 0.7793\n",
      "Epoch 10/40\n",
      "782/782 [==============================] - 8s 10ms/step - loss: 0.5920 - accuracy: 0.7914 - val_loss: 0.6164 - val_accuracy: 0.7847\n",
      "Epoch 11/40\n",
      "782/782 [==============================] - 8s 10ms/step - loss: 0.5622 - accuracy: 0.7998 - val_loss: 0.6250 - val_accuracy: 0.7883\n",
      "Epoch 12/40\n",
      "782/782 [==============================] - 8s 10ms/step - loss: 0.5389 - accuracy: 0.8090 - val_loss: 0.6434 - val_accuracy: 0.7801\n",
      "Epoch 13/40\n",
      "782/782 [==============================] - 8s 10ms/step - loss: 0.5160 - accuracy: 0.8167 - val_loss: 0.6041 - val_accuracy: 0.7936\n",
      "Epoch 14/40\n",
      "782/782 [==============================] - 8s 10ms/step - loss: 0.5016 - accuracy: 0.8230 - val_loss: 0.5842 - val_accuracy: 0.8024\n",
      "Epoch 15/40\n",
      "782/782 [==============================] - 8s 10ms/step - loss: 0.4767 - accuracy: 0.8303 - val_loss: 0.5734 - val_accuracy: 0.8061\n",
      "Epoch 16/40\n",
      "782/782 [==============================] - 8s 10ms/step - loss: 0.4623 - accuracy: 0.8355 - val_loss: 0.5689 - val_accuracy: 0.8060\n",
      "Epoch 17/40\n",
      "782/782 [==============================] - 8s 10ms/step - loss: 0.4411 - accuracy: 0.8420 - val_loss: 0.5690 - val_accuracy: 0.8076\n",
      "Epoch 18/40\n",
      "782/782 [==============================] - 8s 10ms/step - loss: 0.4305 - accuracy: 0.8450 - val_loss: 0.6215 - val_accuracy: 0.7961\n",
      "Epoch 19/40\n",
      "782/782 [==============================] - 8s 10ms/step - loss: 0.4202 - accuracy: 0.8493 - val_loss: 0.5633 - val_accuracy: 0.8099\n",
      "Epoch 20/40\n",
      "782/782 [==============================] - 8s 10ms/step - loss: 0.4089 - accuracy: 0.8545 - val_loss: 0.5873 - val_accuracy: 0.8073\n",
      "Epoch 21/40\n",
      "782/782 [==============================] - 8s 10ms/step - loss: 0.3929 - accuracy: 0.8584 - val_loss: 0.5605 - val_accuracy: 0.8116\n",
      "Epoch 22/40\n",
      "782/782 [==============================] - 8s 10ms/step - loss: 0.3842 - accuracy: 0.8637 - val_loss: 0.5606 - val_accuracy: 0.8108\n",
      "Epoch 23/40\n",
      "782/782 [==============================] - 8s 10ms/step - loss: 0.3722 - accuracy: 0.8668 - val_loss: 0.5552 - val_accuracy: 0.8132\n",
      "Epoch 24/40\n",
      "782/782 [==============================] - 8s 10ms/step - loss: 0.3643 - accuracy: 0.8714 - val_loss: 0.5512 - val_accuracy: 0.8179\n",
      "Epoch 25/40\n",
      "782/782 [==============================] - 8s 10ms/step - loss: 0.3575 - accuracy: 0.8705 - val_loss: 0.5709 - val_accuracy: 0.8115\n",
      "Epoch 26/40\n",
      "782/782 [==============================] - 8s 10ms/step - loss: 0.3438 - accuracy: 0.8765 - val_loss: 0.5521 - val_accuracy: 0.8182\n",
      "Epoch 27/40\n",
      "782/782 [==============================] - 8s 10ms/step - loss: 0.3380 - accuracy: 0.8786 - val_loss: 0.5607 - val_accuracy: 0.8171\n",
      "Epoch 28/40\n",
      "782/782 [==============================] - 8s 10ms/step - loss: 0.3303 - accuracy: 0.8810 - val_loss: 0.5582 - val_accuracy: 0.8161\n",
      "Epoch 29/40\n",
      "782/782 [==============================] - 8s 10ms/step - loss: 0.3253 - accuracy: 0.8816 - val_loss: 0.5620 - val_accuracy: 0.8171\n",
      "Epoch 30/40\n",
      "782/782 [==============================] - 8s 10ms/step - loss: 0.3101 - accuracy: 0.8902 - val_loss: 0.5562 - val_accuracy: 0.8196\n",
      "Epoch 31/40\n",
      "782/782 [==============================] - 8s 10ms/step - loss: 0.3070 - accuracy: 0.8906 - val_loss: 0.5595 - val_accuracy: 0.8199\n",
      "Epoch 32/40\n",
      "782/782 [==============================] - 8s 10ms/step - loss: 0.3077 - accuracy: 0.8890 - val_loss: 0.5513 - val_accuracy: 0.8188\n",
      "Epoch 33/40\n",
      "782/782 [==============================] - 8s 10ms/step - loss: 0.2952 - accuracy: 0.8937 - val_loss: 0.5593 - val_accuracy: 0.8227\n",
      "Epoch 34/40\n",
      "782/782 [==============================] - 8s 10ms/step - loss: 0.2843 - accuracy: 0.8965 - val_loss: 0.5635 - val_accuracy: 0.8224\n",
      "Epoch 35/40\n",
      "782/782 [==============================] - 8s 10ms/step - loss: 0.2851 - accuracy: 0.8975 - val_loss: 0.5592 - val_accuracy: 0.8212\n",
      "Epoch 36/40\n",
      "782/782 [==============================] - 8s 10ms/step - loss: 0.2806 - accuracy: 0.8996 - val_loss: 0.5546 - val_accuracy: 0.8227\n",
      "Epoch 37/40\n",
      "782/782 [==============================] - 8s 10ms/step - loss: 0.2714 - accuracy: 0.9017 - val_loss: 0.5698 - val_accuracy: 0.8221\n",
      "Epoch 38/40\n",
      "782/782 [==============================] - 8s 10ms/step - loss: 0.2691 - accuracy: 0.9037 - val_loss: 0.5549 - val_accuracy: 0.8228\n",
      "Epoch 39/40\n",
      "782/782 [==============================] - 8s 10ms/step - loss: 0.2660 - accuracy: 0.9039 - val_loss: 0.5596 - val_accuracy: 0.8219\n",
      "Epoch 40/40\n",
      "782/782 [==============================] - 8s 10ms/step - loss: 0.2630 - accuracy: 0.9053 - val_loss: 0.5606 - val_accuracy: 0.8227\n"
     ]
    }
   ],
   "source": [
    "print(\"[INFO] training network...\")\n",
    "H = model.fit(trainX,\n",
    "              trainY,\n",
    "              validation_data=(testX, testY),\n",
    "              batch_size=64,\n",
    "              epochs=40,\n",
    "              verbose=1)"
   ]
  },
  {
   "cell_type": "code",
   "execution_count": 7,
   "metadata": {},
   "outputs": [
    {
     "name": "stdout",
     "output_type": "stream",
     "text": [
      "[INFO] evaluating network...\n",
      "              precision    recall  f1-score   support\n",
      "\n",
      "    airplane       0.86      0.82      0.84      1000\n",
      "  automobile       0.91      0.91      0.91      1000\n",
      "        bird       0.77      0.72      0.75      1000\n",
      "         cat       0.71      0.64      0.67      1000\n",
      "        deer       0.75      0.84      0.79      1000\n",
      "         dog       0.74      0.75      0.74      1000\n",
      "        frog       0.82      0.90      0.86      1000\n",
      "       horse       0.87      0.86      0.87      1000\n",
      "        ship       0.91      0.91      0.91      1000\n",
      "       truck       0.89      0.89      0.89      1000\n",
      "\n",
      "    accuracy                           0.82     10000\n",
      "   macro avg       0.82      0.82      0.82     10000\n",
      "weighted avg       0.82      0.82      0.82     10000\n",
      "\n"
     ]
    }
   ],
   "source": [
    "print(\"[INFO] evaluating network...\")\n",
    "predictions = model.predict(testX, batch_size=64)\n",
    "print(classification_report(testY.argmax(axis=1),\n",
    "                            predictions.argmax(axis=1), target_names=lableNames))\n"
   ]
  },
  {
   "cell_type": "code",
   "execution_count": 8,
   "metadata": {},
   "outputs": [
    {
     "data": {
      "image/png": "[encoded data removed]",
      "text/plain": [
       "<Figure size 432x288 with 1 Axes>"
      ]
     },
     "metadata": {},
     "output_type": "display_data"
    }
   ],
   "source": [
    "plt.style.use(\"ggplot\")\n",
    "plt.figure()\n",
    "plt.plot(np.arange(0, 40), H.history[\"loss\"], label=\"train_loss\")\n",
    "plt.plot(np.arange(0, 40), H.history[\"val_loss\"], label=\"val_loss\")\n",
    "plt.plot(np.arange(0, 40), H.history[\"accuracy\"], label=\"train_accuracy\")\n",
    "plt.plot(np.arange(0, 40), H.history[\"val_accuracy\"], label=\"val_accuracy\")\n",
    "plt.title(\"Training Loss and Accuracy\")\n",
    "plt.xlabel(\"Epoch #\")\n",
    "plt.ylabel(\"Loss/Accuracy\")\n",
    "plt.legend()\n",
    "plt.show()"
   ]
  }
 ],
 "metadata": {
  "kernelspec": {
   "display_name": "Python 3",
   "language": "python",
   "name": "python3"
  },
  "language_info": {
   "codemirror_mode": {
    "name": "ipython",
    "version": 3
   },
   "file_extension": ".py",
   "mimetype": "text/x-python",
   "name": "python",
   "nbconvert_exporter": "python",
   "pygments_lexer": "ipython3",
   "version": "3.8.5"
  },
  "toc": {
   "base_numbering": 1,
   "nav_menu": {},
   "number_sections": true,
   "sideBar": true,
   "skip_h1_title": false,
   "title_cell": "Table of Contents",
   "title_sidebar": "Contents",
   "toc_cell": false,
   "toc_position": {},
   "toc_section_display": true,
   "toc_window_display": false
  },
  "varInspector": {
   "cols": {
    "lenName": 16,
    "lenType": 16,
    "lenVar": 40
   },
   "kernels_config": {
    "python": {
     "delete_cmd_postfix": "",
     "delete_cmd_prefix": "del ",
     "library": "var_list.py",
     "varRefreshCmd": "print(var_dic_list())"
    },
    "r": {
     "delete_cmd_postfix": ") ",
     "delete_cmd_prefix": "rm(",
     "library": "var_list.r",
     "varRefreshCmd": "cat(var_dic_list()) "
    }
   },
   "types_to_exclude": [
    "module",
    "function",
    "builtin_function_or_method",
    "instance",
    "_Feature"
   ],
   "window_display": false
  }
 },
 "nbformat": 4,
 "nbformat_minor": 4
}
