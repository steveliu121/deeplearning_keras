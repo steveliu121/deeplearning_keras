{
 "cells": [
  {
   "cell_type": "markdown",
   "metadata": {},
   "source": [
    "# LeNet网络\n",
    "+ 基于mnist数据集\n",
    "+ 学习量化感知训练 Quantization Aware Trainning"
   ]
  },
  {
   "cell_type": "code",
   "execution_count": 1,
   "metadata": {},
   "outputs": [
    {
     "name": "stdout",
     "output_type": "stream",
     "text": [
      "tf verion = 2.2.0\n"
     ]
    }
   ],
   "source": [
    "import tensorflow as tf\n",
    "print(f\"tf verion = {tf.__version__}\")\n",
    "\n",
    "import tensorflow_model_optimization as tfmot\n",
    "from tensorflow.keras.layers import Conv2D,MaxPool2D,Flatten,Dense,Dropout"
   ]
  },
  {
   "cell_type": "markdown",
   "metadata": {},
   "source": [
    "# 解决GPU内存不足报错，对GPU进行按需分配"
   ]
  },
  {
   "cell_type": "code",
   "execution_count": 2,
   "metadata": {},
   "outputs": [],
   "source": [
    "from tensorflow.compat.v1 import ConfigProto\n",
    "from tensorflow.compat.v1 import InteractiveSession\n",
    "\n",
    "config = ConfigProto()\n",
    "config.gpu_options.allow_growth = True\n",
    "session = InteractiveSession(config=config)"
   ]
  },
  {
   "cell_type": "markdown",
   "metadata": {},
   "source": [
    "## 加载数据集"
   ]
  },
  {
   "cell_type": "code",
   "execution_count": 3,
   "metadata": {},
   "outputs": [],
   "source": [
    "mnist = tf.keras.datasets.mnist\n",
    "\n",
    "(x_train, y_train), (x_test, y_test) = mnist.load_data()\n",
    "x_train, x_test = x_train / 255.0, x_test / 255.0\n",
    "\n",
    "x_train = x_train[..., tf.newaxis]\n",
    "x_test = x_test[..., tf.newaxis]\n"
   ]
  },
  {
   "cell_type": "markdown",
   "metadata": {},
   "source": [
    "## 构建模型"
   ]
  },
  {
   "cell_type": "code",
   "execution_count": 4,
   "metadata": {},
   "outputs": [
    {
     "name": "stdout",
     "output_type": "stream",
     "text": [
      "Model: \"sequential\"\n",
      "_________________________________________________________________\n",
      "Layer (type)                 Output Shape              Param #   \n",
      "=================================================================\n",
      "conv2d (Conv2D)              (None, 28, 28, 6)         150       \n",
      "_________________________________________________________________\n",
      "max_pooling2d (MaxPooling2D) (None, 14, 14, 6)         0         \n",
      "_________________________________________________________________\n",
      "conv2d_1 (Conv2D)            (None, 14, 14, 16)        2400      \n",
      "_________________________________________________________________\n",
      "max_pooling2d_1 (MaxPooling2 (None, 7, 7, 16)          0         \n",
      "_________________________________________________________________\n",
      "flatten (Flatten)            (None, 784)               0         \n",
      "_________________________________________________________________\n",
      "dense (Dense)                (None, 120)               94200     \n",
      "_________________________________________________________________\n",
      "dense_1 (Dense)              (None, 84)                10164     \n",
      "_________________________________________________________________\n",
      "dropout (Dropout)            (None, 84)                0         \n",
      "_________________________________________________________________\n",
      "dense_2 (Dense)              (None, 10)                850       \n",
      "=================================================================\n",
      "Total params: 107,764\n",
      "Trainable params: 107,764\n",
      "Non-trainable params: 0\n",
      "_________________________________________________________________\n"
     ]
    }
   ],
   "source": [
    "model = tf.keras.models.Sequential([\n",
    "        Conv2D(filters=6,kernel_size=5,strides=(1,1),padding='same',activation='relu',use_bias=False,input_shape=(28,28,1)),\n",
    "        MaxPool2D(pool_size=(3,3),strides=2,padding=\"same\"),\n",
    "        Conv2D(filters=16,kernel_size=5,strides=(1,1),padding='same',activation='relu',use_bias=False),\n",
    "        MaxPool2D(pool_size=(3,3),strides=2,padding=\"same\"),\n",
    "        Flatten(input_shape=(7, 7)),\n",
    "        Dense(120, activation='relu'),\n",
    "        Dense(84, activation='relu'),\n",
    "        Dropout(0.2),\n",
    "        Dense(10, activation='softmax')\n",
    "    ])\n",
    "model.summary()"
   ]
  },
  {
   "cell_type": "markdown",
   "metadata": {},
   "source": [
    "## 模型训练和评估（普通方式）"
   ]
  },
  {
   "cell_type": "code",
   "execution_count": 5,
   "metadata": {},
   "outputs": [],
   "source": [
    "def model_run():\n",
    "    '''\n",
    "        float32 model\n",
    "    '''\n",
    "    print(\"float32 model:\")\n",
    "    model.compile(optimizer='adam',\n",
    "                    loss='sparse_categorical_crossentropy',\n",
    "                    metrics=['accuracy'])\n",
    "    print(\"==> training\")\n",
    "    model.fit(x_train, y_train, epochs=1)\n",
    "    print(\"==> evaluate\")\n",
    "    model.evaluate(x_test,  y_test, verbose=2)\n",
    "    return model\n",
    "\n"
   ]
  },
  {
   "cell_type": "markdown",
   "metadata": {},
   "source": [
    "## 模型训练和评估（量化感知训练）"
   ]
  },
  {
   "cell_type": "code",
   "execution_count": 6,
   "metadata": {},
   "outputs": [],
   "source": [
    "def quant_model_run():\n",
    "    '''\n",
    "        quantized model\n",
    "    '''\n",
    "    print(\"quantized model:\")\n",
    "    quant_model = tfmot.quantization.keras.quantize_model(model)\n",
    "\n",
    "    quant_model.compile(optimizer='adam',\n",
    "                    loss='sparse_categorical_crossentropy',\n",
    "                    metrics=['accuracy'])\n",
    "    print(\"==> training\")\n",
    "    quant_model.fit(x_train, y_train, epochs=1)\n",
    "    print(\"==> evaluate\")\n",
    "    quant_model.evaluate(x_test,  y_test, verbose=2)\n",
    "    return quant_model"
   ]
  },
  {
   "cell_type": "markdown",
   "metadata": {},
   "source": [
    "## 运行"
   ]
  },
  {
   "cell_type": "code",
   "execution_count": 7,
   "metadata": {},
   "outputs": [
    {
     "name": "stdout",
     "output_type": "stream",
     "text": [
      "float32 model:\n",
      "==> training\n",
      "1875/1875 [==============================] - 4s 2ms/step - loss: 0.2013 - accuracy: 0.9381\n",
      "==> evaluate\n",
      "313/313 - 2s - loss: 0.0567 - accuracy: 0.9823\n",
      "quantized model:\n",
      "==> training\n",
      "1875/1875 [==============================] - 8s 4ms/step - loss: 0.0690 - accuracy: 0.9796\n",
      "==> evaluate\n",
      "313/313 - 1s - loss: 0.0425 - accuracy: 0.9861\n"
     ]
    }
   ],
   "source": [
    "if __name__=='__main__':\n",
    "    normal_model = model_run()\n",
    "    qat_model = quant_model_run()"
   ]
  },
  {
   "cell_type": "markdown",
   "metadata": {},
   "source": [
    "## 模型分析"
   ]
  },
  {
   "cell_type": "code",
   "execution_count": 8,
   "metadata": {},
   "outputs": [],
   "source": [
    "normal_model.save(\"lenet_normal.hdf5\")\n",
    "normal_model_json = normal_model.to_json()\n",
    "with open('lenet_normal.json', 'w') as file:\n",
    "    file.write(normal_model_json)\n",
    "\n",
    "qat_model.save(\"lenet_qat.hdf5\")\n",
    "qat_model_json = qat_model.to_json()\n",
    "with open('lenet_normal.json', 'w') as file:\n",
    "    file.write(qat_model_json)"
   ]
  }
 ],
 "metadata": {
  "kernelspec": {
   "display_name": "Python [conda env:TF]",
   "language": "python",
   "name": "conda-env-TF-py"
  },
  "language_info": {
   "codemirror_mode": {
    "name": "ipython",
    "version": 3
   },
   "file_extension": ".py",
   "mimetype": "text/x-python",
   "name": "python",
   "nbconvert_exporter": "python",
   "pygments_lexer": "ipython3",
   "version": "3.6.11"
  }
 },
 "nbformat": 4,
 "nbformat_minor": 4
}
